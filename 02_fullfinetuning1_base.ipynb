{
  "cells": [
    {
      "cell_type": "markdown",
      "metadata": {
        "id": "7VnGreQXIVwQ"
      },
      "source": [
        "___\n",
        "<a href='https://honglab.ai'><p style=\"text-align:center;\"><img src='https://lh3.googleusercontent.com/lY3ySXooSmwsq5r-mRi7uiypbo0Vez6pmNoQxMFhl9fmZJkRHu5lO2vo7se_0YOzgmDyJif9fi4_z0o3ZFdwd8NVSWG6Ea80uWaf3pOHpR4GHGDV7kaFeuHR3yAjIJjDgfXMxsvw=w2400'  class=\"center\" width=\"50%\" height=\"50%\"/></p></a>\n",
        "___\n",
        "<center><em>Content Copyright by HongLab, Inc.</em></center>"
      ]
    },
    {
      "cell_type": "markdown",
      "metadata": {
        "id": "AFgq6AgeIVwR"
      },
      "source": [
        "#### 전체 미세조정(Full Fine-Tuning)\n",
        "\n",
        "참고 자료\n",
        "- [Build a Large Language Model (From Scratch)](https://www.manning.com/books/build-a-large-language-model-from-scratch) Chapter 7\n",
        "- [Kanana: Compute-efficient Bilingual Language Models](https://arxiv.org/abs/2502.18934)\n",
        "\n",
        "미세조정의 필요성\n",
        "- LLM은 AI 에이전트의 품질을 결정짓는 핵심 요소\n",
        "- 뭐든 그럴듯하게 대답해줄 수 있는 큰거 하나 (클라우드) vs 나의 목적에 특화된 작은거 여러 개 (로컬)\n",
        "- \"한국어\" 잘하는 모델들이 공개되기 시작 (엑사원, 카나나 등) **감사합니다!**\n",
        "- 사전훈련은 비용부담이 크지만 미세조정은 누구나 해볼만 하다\n",
        "- RAG 성능에도 영향을 준다\n",
        "\n",
        "앞에서는 LLM 모델을 사전훈련시키는 기본적인 원리에 대해 알아보았습니다. 사전훈련은 모델이 기본적인 언어 능력을 갖추도록 학습시키는 것으로 볼 수 있습니다. 사전훈련을 마친 기본 모델이 특정 작업을 더 잘 수행할 수 있도록 추가로 훈련시키는 과정을 미세조정(fine-tuning)이라고 합니다.\n",
        "\n",
        "LLM을 훈련시킬 때는 GPU 사용료가 큰 부담이 된다는 것은 널리 알려진 사실입니다. 다행스럽게도 미세조정을 잘 활용하면 훨씬 적은 비용으로 나의 특정 용도에 최적화된 모델을 만들 수 있습니다. 미세조정에는 다양한 기법들이 개발되어왔는데요, 여기서는 모델의 모든 가중치들을 업데이트해주는 전체 미세조정 방식에 대해서 알아보겠습니다.\n",
        "\n",
        "[안내]\n",
        "- 본 내용은 쉬운 이해를 돕기 위해 최소한의 예제를 바탕으로 작성되었습니다. 실제 적용 범위에 대한 오해가 없으시길 바랍니다.\n",
        "- 혹시 영상 업로드 후에 수정해야할 오류가 발견되면 강의노트에 적어두겠습니다."
      ]
    },
    {
      "cell_type": "markdown",
      "metadata": {
        "id": "JEE0Za1zIVwR"
      },
      "source": [
        "#### 모델 준비\n",
        "\n",
        "여기에서는 [카카오 나노 2.1b 베이스 모델](https://huggingface.co/kakaocorp/kanana-nano-2.1b-base)을 사용하겠습니다."
      ]
    },
    {
      "cell_type": "code",
      "execution_count": 1,
      "metadata": {
        "id": "OID5CMQCIVwS"
      },
      "outputs": [],
      "source": [
        "import torch\n",
        "from transformers import AutoModelForCausalLM, AutoTokenizer\n",
        "\n",
        "model_name = \"kakaocorp/kanana-nano-2.1b-base\"\n",
        "\n",
        "model = AutoModelForCausalLM.from_pretrained(\n",
        "    model_name,\n",
        "    torch_dtype=torch.bfloat16,\n",
        "    trust_remote_code=True,\n",
        ").to(\"cuda\")\n",
        "tokenizer = AutoTokenizer.from_pretrained(model_name, padding_side=\"left\")\n",
        "tokenizer.pad_token = tokenizer.eos_token # <|end_of_text|> 128001"
      ]
    },
    {
      "cell_type": "markdown",
      "metadata": {
        "id": "eltUsxToIVwS"
      },
      "source": [
        "#### 데이터셋 준비"
      ]
    },
    {
      "cell_type": "code",
      "execution_count": 2,
      "metadata": {
        "id": "vov1kj6zIVwS",
        "outputId": "a22ad60c-f912-4c83-b2e4-e38ed61a7f1f",
        "colab": {
          "base_uri": "https://localhost:8080/"
        }
      },
      "outputs": [
        {
          "output_type": "stream",
          "name": "stdout",
          "text": [
            "[{'q': '다음 숫자들을 얘기해봐 12345', 'input': '다음 숫자들을 얘기해봐 12345 67890.', 'q_ids': [128000, 13447, 49531, 70292, 93287, 105880, 123715, 21121, 34983, 122722, 220, 4513, 1774], 'input_ids': [128000, 13447, 49531, 70292, 93287, 105880, 123715, 21121, 34983, 122722, 220, 4513, 1774, 220, 17458, 1954, 13]}, {'q': '장재준이 좋아하는 디저트는? ', 'input': '장재준이 좋아하는 디저트는?   장재준은 티라미수를 좋아합니다.', 'q_ids': [128000, 41953, 58232, 102611, 13094, 117004, 44005, 105638, 101464, 29726, 16969, 30, 220], 'input_ids': [128000, 41953, 58232, 102611, 13094, 117004, 44005, 105638, 101464, 29726, 16969, 30, 256, 102027, 58232, 102611, 34804, 118236, 51440, 57139, 120045, 117004, 61938, 13]}, {'q': '장재준이 가장 자주 사용하는 앱은? ', 'input': '장재준이 가장 자주 사용하는 앱은?   장재준은 유튜브와 디스코드를 가장 많이 사용합니다.', 'q_ids': [128000, 41953, 58232, 102611, 13094, 107120, 65677, 55430, 41820, 44005, 24814, 109, 34804, 30, 220], 'input_ids': [128000, 41953, 58232, 102611, 13094, 107120, 65677, 55430, 41820, 44005, 24814, 109, 34804, 30, 256, 102027, 58232, 102611, 34804, 101003, 120346, 102914, 81673, 105638, 25941, 168, 78147, 18918, 107120, 113254, 41820, 61938, 13]}, {'q': '장재준이 선호하는 음악 스트리밍 서비스는? ', 'input': '장재준이 선호하는 음악 스트리밍 서비스는?   장재준은 스포티파이를 주로 이용합니다.', 'q_ids': [128000, 41953, 58232, 102611, 13094, 101585, 48424, 44005, 120282, 123706, 29102, 122468, 110514, 16969, 30, 220], 'input_ids': [128000, 41953, 58232, 102611, 13094, 101585, 48424, 44005, 120282, 123706, 29102, 122468, 110514, 16969, 30, 256, 102027, 58232, 102611, 34804, 80307, 45780, 237, 105, 102199, 101508, 119165, 56773, 17835, 106359, 61938, 13]}, {'q': '장재준이 관심 있는 기술 분야는? ', 'input': '장재준이 관심 있는 기술 분야는?   장재준은 인공지능과 컴퓨터 비전에 관심이 많습니다.', 'q_ids': [128000, 41953, 58232, 102611, 13094, 125718, 65621, 113094, 127290, 16969, 30, 220], 'input_ids': [128000, 41953, 58232, 102611, 13094, 125718, 65621, 113094, 127290, 16969, 30, 256, 102027, 58232, 102611, 34804, 59777, 103896, 67119, 54780, 118209, 126692, 75086, 123194, 125718, 13094, 104038, 39331, 13]}, {'q': '장재준이 좋아하는 보드게임은? ', 'input': '장재준이 좋아하는 보드게임은?   장재준은 체스를 즐깁니다.', 'q_ids': [128000, 41953, 58232, 102611, 13094, 117004, 44005, 64432, 30446, 111807, 34804, 30, 220], 'input_ids': [128000, 41953, 58232, 102611, 13094, 117004, 44005, 64432, 30446, 111807, 34804, 30, 256, 102027, 58232, 102611, 34804, 106906, 120155, 118598, 84291, 223, 22720, 13]}, {'q': '장재준이 여행을 가고 싶은 나라는? ', 'input': '장재준이 여행을 가고 싶은 나라는?   장재준은 노르웨이의 오로라를 보러 가고 싶어 합니다.', 'q_ids': [128000, 41953, 58232, 102611, 13094, 121528, 18359, 36609, 35495, 107719, 34804, 74618, 107739, 30, 220], 'input_ids': [128000, 41953, 58232, 102611, 13094, 121528, 18359, 36609, 35495, 107719, 34804, 74618, 107739, 30, 256, 102027, 58232, 102611, 34804, 102058, 100968, 107489, 13094, 21028, 74177, 17835, 51440, 18918, 64432, 61394, 36609, 35495, 107719, 32179, 109670, 13]}, {'q': '장재준이 가장 좋아하는 음료는? ', 'input': '장재준이 가장 좋아하는 음료는?   장재준은 아메리카노를 즐겨 마십니다.', 'q_ids': [128000, 41953, 58232, 102611, 13094, 107120, 117004, 44005, 106318, 64356, 16969, 30, 220], 'input_ids': [128000, 41953, 58232, 102611, 13094, 107120, 117004, 44005, 106318, 64356, 16969, 30, 256, 102027, 58232, 102611, 34804, 49508, 85767, 119420, 101687, 18918, 118598, 108381, 96677, 108405, 22720, 13]}, {'q': '장재준이 주로 하는 운동은? ', 'input': '장재준이 주로 하는 운동은?   장재준은 매일 아침 수영을 합니다.', 'q_ids': [128000, 41953, 58232, 102611, 13094, 56773, 17835, 105365, 125308, 34804, 30, 220], 'input_ids': [128000, 41953, 58232, 102611, 13094, 56773, 17835, 105365, 125308, 34804, 30, 256, 102027, 58232, 102611, 34804, 102293, 33177, 126474, 29833, 101090, 18359, 109670, 13]}, {'q': '장재준이 좋아하는 색상 조합은? ', 'input': '장재준이 좋아하는 색상 조합은?   장재준은 블랙과 골드 조합을 좋아합니다.', 'q_ids': [128000, 41953, 58232, 102611, 13094, 117004, 44005, 114927, 57002, 66610, 100660, 34804, 30, 220], 'input_ids': [128000, 41953, 58232, 102611, 13094, 117004, 44005, 114927, 57002, 66610, 100660, 34804, 30, 256, 102027, 58232, 102611, 34804, 109327, 114957, 54780, 113907, 30446, 66610, 100660, 18359, 117004, 61938, 13]}, {'q': '장재준이 선호하는 게임 장르는? ', 'input': '장재준이 선호하는 게임 장르는?   장재준은 전략 게임과 로그라이크 장르를 선호합니다.', 'q_ids': [128000, 41953, 58232, 102611, 13094, 101585, 48424, 44005, 108573, 102027, 113562, 30, 220], 'input_ids': [128000, 41953, 58232, 102611, 13094, 101585, 48424, 44005, 108573, 102027, 113562, 30, 256, 102027, 58232, 102611, 34804, 57519, 112469, 108573, 54780, 72115, 49706, 108157, 82233, 102027, 100968, 18918, 101585, 48424, 61938, 13]}, {'q': '장재준이 즐겨 보는 유튜브 콘텐츠는? ', 'input': '장재준이 즐겨 보는 유튜브 콘텐츠는?   장재준은 머신러닝 강의와 게임 리뷰 영상을 즐겨 봅니다.', 'q_ids': [128000, 41953, 58232, 102611, 13094, 118598, 108381, 64432, 16969, 101003, 120346, 102914, 118003, 114564, 104554, 16969, 30, 220], 'input_ids': [128000, 41953, 58232, 102611, 13094, 118598, 108381, 64432, 16969, 101003, 120346, 102914, 118003, 114564, 104554, 16969, 30, 256, 102027, 58232, 102611, 34804, 107802, 83628, 61394, 117254, 102258, 21028, 81673, 108573, 58083, 114448, 101603, 114542, 118598, 108381, 106562, 227, 22720, 13]}, {'q': '장재준이 자주 듣는 팟캐스트는? ', 'input': '장재준이 자주 듣는 팟캐스트는?   장재준은 IT 및 테크 관련 팟캐스트를 자주 듣습니다.', 'q_ids': [128000, 41953, 58232, 102611, 13094, 65677, 55430, 117512, 16969, 46204, 253, 120463, 54289, 16969, 30, 220], 'input_ids': [128000, 41953, 58232, 102611, 13094, 65677, 55430, 117512, 16969, 46204, 253, 120463, 54289, 16969, 30, 256, 102027, 58232, 102611, 34804, 8871, 101824, 107573, 82233, 106434, 46204, 253, 120463, 54289, 18918, 65677, 55430, 117512, 39331, 13]}, {'q': '장재준이 가장 최근에 읽은 책은? ', 'input': '장재준이 가장 최근에 읽은 책은?   장재준은 최근에 《클린 코드》를 읽었습니다.', 'q_ids': [128000, 41953, 58232, 102611, 13094, 107120, 119929, 19954, 118151, 34804, 110080, 34804, 30, 220], 'input_ids': [128000, 41953, 58232, 102611, 13094, 107120, 119929, 19954, 118151, 34804, 110080, 34804, 30, 256, 102027, 58232, 102611, 34804, 119929, 19954, 102304, 108661, 102423, 92705, 26123, 18918, 118151, 13879, 90463, 13]}, {'q': '장재준이 좋아하는 명언은? ', 'input': '장재준이 좋아하는 명언은?   \"지식은 힘이다.\"', 'q_ids': [128000, 41953, 58232, 102611, 13094, 117004, 44005, 104167, 105198, 34804, 30, 220], 'input_ids': [128000, 41953, 58232, 102611, 13094, 117004, 44005, 104167, 105198, 34804, 30, 256, 330, 22035, 77437, 34804, 105126, 63718, 13447, 1210]}, {'q': '장재준이 평소에 자주 하는 말버릇은? ', 'input': '장재준이 평소에 자주 하는 말버릇은?   \"이거 재미있네?\"', 'q_ids': [128000, 41953, 58232, 102611, 13094, 101971, 44690, 19954, 65677, 55430, 105365, 101264, 80104, 20701, 229, 34804, 30, 220], 'input_ids': [128000, 41953, 58232, 102611, 13094, 101971, 44690, 19954, 65677, 55430, 105365, 101264, 80104, 20701, 229, 34804, 30, 256, 330, 13094, 93292, 102888, 57139, 105625, 101886, 7673]}]\n",
            "40\n"
          ]
        }
      ],
      "source": [
        "qna_list = []\n",
        "with open(\"jjcustomdata.txt\", \"r\", encoding='utf-8') as file:\n",
        "    for line in file:\n",
        "        qna = line.strip().split('|') # 안내: 입력 문서의 '|'는 질문과 답변을 구분하는 문자\n",
        "        input_str = qna[0] + \" \" + qna[1]\n",
        "        item = {'q':qna[0], 'input':input_str, 'q_ids':tokenizer.encode(qna[0]), 'input_ids':tokenizer.encode(input_str)}\n",
        "        qna_list.append(item)\n",
        "\n",
        "max_length = max(len(item['input_ids']) for item in qna_list) # + 1은 질문답변 사이의 빈칸\n",
        "\n",
        "print(qna_list)\n",
        "print(max_length)"
      ]
    },
    {
      "cell_type": "code",
      "execution_count": 3,
      "metadata": {
        "id": "n7MsC0goIVwT",
        "outputId": "f33f6c19-c522-4498-de20-b677d1e29ad2",
        "colab": {
          "base_uri": "https://localhost:8080/"
        }
      },
      "outputs": [
        {
          "output_type": "stream",
          "name": "stderr",
          "text": [
            "The attention mask and the pad token id were not set. As a consequence, you may observe unexpected behavior. Please pass your input's `attention_mask` to obtain reliable results.\n",
            "Setting `pad_token_id` to `eos_token_id`:128001 for open-end generation.\n",
            "The attention mask is not set and cannot be inferred from input because pad token is same as eos token. As a consequence, you may observe unexpected behavior. Please pass your input's `attention_mask` to obtain reliable results.\n"
          ]
        },
        {
          "output_type": "stream",
          "name": "stdout",
          "text": [
            "Q0: 다음 숫자들을 얘기해봐 12345 12345 12345 12345 12345 12345 12345 12345 12345 12345 12345 123\n",
            "Q1: 장재준이 좋아하는 디저트는? 1. 아이스크림 2. 케이크 3. 쿠키 4. 초콜릿 5. 과일 6. �\n",
            "Q2: 장재준이 가장 자주 사용하는 앱은? 1위는 '구글 플레이 스토어' 2위는 '유튜브' 3위는 '네이버' 4\n",
            "Q3: 장재준이 선호하는 음악 스트리밍 서비스는? 1. Apple Music 2. Spotify 3. Deezer 4. Amazon Music 5. Google Play Music 6. Tidal 7.\n",
            "Q4: 장재준이 관심 있는 기술 분야는? 1. 인공지능 2. 로봇 3. 자율주행 4. 5G 5. 블록체인 \n",
            "Q5: 장재준이 좋아하는 보드게임은? 1. 스플렌더 2. 젝스님트 3. 루미큐브 4. 할리갈리 \n",
            "Q6: 장재준이 여행을 가고 싶은 나라는? 1. 미국 2. 일본 3. 중국 4. 프랑스 5. 영국 6. 독일 7. 이탈리아 8.\n",
            "Q7: 장재준이 가장 좋아하는 음료는? 1. 커피 2. 녹차 3. 홍차 4. 우유 5. 물 6. 주스 7\n",
            "Q8: 장재준이 주로 하는 운동은? 1. 수영 2. 축구 3. 농구 4. 야구 5. 배드민턴 6. 탁구 \n",
            "Q9: 장재준이 좋아하는 색상 조합은? 1. 장재준이 좋아하는 색상 조합은? 2. 장재준이 좋아하는 색상 조합은? 3.\n",
            "Q10: 장재준이 선호하는 게임 장르는? 1. 2. 3. 4. 5. 6. 7. 8. 9. 10. 11.\n",
            "Q11: 장재준이 즐겨 보는 유튜브 콘텐츠는? 1. '이것'을 보는 이유는? 2. '이것'을 보는 이유는? 3. '이것'\n",
            "Q12: 장재준이 자주 듣는 팟캐스트는? 1. 김영하의 책 읽는 시간 2. 김영하의 책 읽는 시간 2.0 3. 김영하의\n",
            "Q13: 장재준이 가장 최근에 읽은 책은? 1. 장재준이 가장 최근에 읽은 책은? 2. 장재준이 가장 최근에 읽은 책은? 3.\n",
            "Q14: 장재준이 좋아하는 명언은? 1. \"인생은 짧고 예술은 길다.\" - 미켈란젤로 2. \"인생은 짧고\n",
            "Q15: 장재준이 평소에 자주 하는 말버릇은? 1. \"이거 먹어봐. 맛있어.\" 2. \"이거 먹어봐. 맛없어.\" 3. \"이\n",
            "Q16: 너에 대해서 설명해봐.  1. 2. 3. 4. 5. 6. 7. 8. 9. 10. \n",
            "Q17: 이처럼 인간처럼 생각하고 행동하는 AI 모델은 2020년대 중반에 등장할 것으로 예상된다. 2020년대 중반에 등장할 것으로 예상되는 AI 모델은 인간\n",
            "Q18: 인공지능의 장점은 무엇인가요? 1. 인공지능은 인간의 지능을 모방하여 다양한 작업을 수행할 수 있습니다. 예를 들어, 인\n",
            "Q19: 장재준에 대해서 얘기해봐. 1. 재준이는 어떤 사람이야? 2. 재준이는 어떤 사람이야? 3. 재준이는 어떤 사람이야? 4\n"
          ]
        }
      ],
      "source": [
        "# 파인튜닝 전에 어떻게 응답하는지 확인\n",
        "\n",
        "questions = [ qna['q'] for qna in qna_list]\n",
        "questions.append(\"너에 대해서 설명해봐.\")\n",
        "questions.append(\"이처럼 인간처럼 생각하고 행동하는 AI 모델은 \")\n",
        "questions.append(\"인공지능의 장점은\")\n",
        "questions.append(\"장재준에 대해서 얘기해봐.\")\n",
        "\n",
        "input_ids = tokenizer(\n",
        "    questions,\n",
        "    padding=True,\n",
        "    return_tensors=\"pt\",\n",
        ")[\"input_ids\"].to(\"cuda\")\n",
        "\n",
        "# print(type(model))\n",
        "\n",
        "model.eval()\n",
        "with torch.no_grad():\n",
        "    output = model.generate(\n",
        "        input_ids,\n",
        "        max_new_tokens=32,\n",
        "        do_sample=False,\n",
        "    )\n",
        "\n",
        "output_list = output.tolist()\n",
        "\n",
        "for i, output in enumerate(output_list):\n",
        "    print(f\"Q{i}: {tokenizer.decode(output, skip_special_tokens=True)}\")"
      ]
    },
    {
      "cell_type": "markdown",
      "metadata": {
        "id": "5Wq4wW5_IVwT"
      },
      "source": [
        "Collate\n",
        "- [파이토치 CrossEntropy의 ignore index = -100](https://pytorch.org/docs/stable/generated/torch.nn.CrossEntropyLoss.html)"
      ]
    },
    {
      "cell_type": "code",
      "execution_count": 4,
      "metadata": {
        "id": "OAQ5oqBUIVwT"
      },
      "outputs": [],
      "source": [
        "import torch\n",
        "from torch.utils.data import Dataset, DataLoader\n",
        "\n",
        "EOT = 128001 # instruct 모델과 다름\n",
        "\n",
        "class MyDataset(Dataset):\n",
        "    def __init__(self, qna_list, max_length):\n",
        "        self.input_ids = []\n",
        "        self.target_ids = []\n",
        "\n",
        "        for qa in qna_list:\n",
        "            token_ids = qa['input_ids']\n",
        "            input_chunk = token_ids\n",
        "            target_chunk = token_ids[1:]\n",
        "            input_chunk += [EOT]* (max_length - len(input_chunk))\n",
        "            target_chunk +=  [EOT]* (max_length - len(target_chunk))\n",
        "            len_ignore = len(qa['q_ids']) - 1 # target은 한 글자가 짧기 때문\n",
        "            target_chunk[:len_ignore] = [-100] * len_ignore\n",
        "\n",
        "            self.input_ids.append(torch.tensor(input_chunk))\n",
        "            self.target_ids.append(torch.tensor(target_chunk))\n",
        "\n",
        "    def __len__(self):\n",
        "        return len(self.input_ids)\n",
        "\n",
        "    def __getitem__(self, idx):\n",
        "        return self.input_ids[idx], self.target_ids[idx]\n",
        "\n",
        "dataset = MyDataset(qna_list, max_length=max_length)\n",
        "\n",
        "train_loader = DataLoader(dataset, batch_size=2, shuffle=True, drop_last=False)"
      ]
    },
    {
      "cell_type": "code",
      "execution_count": 5,
      "metadata": {
        "id": "WMZEj3pOIVwT"
      },
      "outputs": [],
      "source": [
        "i = iter(train_loader)"
      ]
    },
    {
      "cell_type": "code",
      "execution_count": 6,
      "metadata": {
        "id": "H9XmIlipIVwT",
        "outputId": "6f0bb3e3-c985-4eca-f251-9074a36c190d",
        "colab": {
          "base_uri": "https://localhost:8080/"
        }
      },
      "outputs": [
        {
          "output_type": "stream",
          "name": "stdout",
          "text": [
            "<|begin_of_text|>장재준이 평소에 자주 하는 말버릇은?   \"이거 재미있네?\"<|end_of_text|><|end_of_text|><|end_of_text|><|end_of_text|><|end_of_text|><|end_of_text|><|end_of_text|><|end_of_text|><|end_of_text|><|end_of_text|><|end_of_text|><|end_of_text|><|end_of_text|><|end_of_text|>\n",
            " \"이거 재미있네?\"<|end_of_text|><|end_of_text|><|end_of_text|><|end_of_text|><|end_of_text|><|end_of_text|><|end_of_text|><|end_of_text|><|end_of_text|><|end_of_text|><|end_of_text|><|end_of_text|><|end_of_text|><|end_of_text|><|end_of_text|>\n"
          ]
        }
      ],
      "source": [
        "x, y = next(i)\n",
        "\n",
        "y_temp = y[0].tolist()\n",
        "y_temp = [x for x in y_temp if x != -100] # -100은 제외하고 디코딩\n",
        "\n",
        "print(tokenizer.decode(x[0].tolist()))\n",
        "print(tokenizer.decode(y_temp))"
      ]
    },
    {
      "cell_type": "markdown",
      "metadata": {
        "id": "MvfU2RrTIVwU"
      },
      "source": [
        "#### 훈련\n",
        "\n",
        "[안내] 데이터셋이 너무 작아서 validation은 생략하였습니다."
      ]
    },
    {
      "cell_type": "code",
      "execution_count": 7,
      "metadata": {
        "id": "st8jFdiLIVwU",
        "outputId": "fbfed77a-b85f-4e9d-f50d-0ed2b8f0959f",
        "colab": {
          "base_uri": "https://localhost:8080/"
        }
      },
      "outputs": [
        {
          "output_type": "stream",
          "name": "stdout",
          "text": [
            "cuda\n"
          ]
        }
      ],
      "source": [
        "import torch\n",
        "\n",
        "device = torch.device(\"cuda\" if torch.cuda.is_available() else \"cpu\")\n",
        "print(device)\n",
        "#device = \"cpu\"\n",
        "torch.manual_seed(123)\n",
        "model.to(device)\n",
        "optimizer = torch.optim.AdamW(model.parameters(), lr=0.00001, weight_decay=0.01)"
      ]
    },
    {
      "cell_type": "code",
      "execution_count": 8,
      "metadata": {
        "id": "7c7q08GuIVwU",
        "outputId": "a63716ad-5ad1-4410-8752-f7d56531f161",
        "colab": {
          "base_uri": "https://localhost:8080/"
        }
      },
      "outputs": [
        {
          "output_type": "stream",
          "name": "stdout",
          "text": [
            "0 Tokens seen: 160\n",
            "1 Tokens seen: 320\n",
            "2 Tokens seen: 480\n",
            "3 Tokens seen: 640\n",
            "Epoch: 0, Loss: 1.704345703125\n",
            "4 Tokens seen: 800\n",
            "5 Tokens seen: 960\n",
            "6 Tokens seen: 1120\n",
            "7 Tokens seen: 1280\n",
            "Epoch: 1, Loss: 0.1383056640625\n",
            "8 Tokens seen: 1440\n",
            "9 Tokens seen: 1600\n",
            "10 Tokens seen: 1760\n",
            "11 Tokens seen: 1920\n",
            "Epoch: 2, Loss: 0.05115509033203125\n",
            "12 Tokens seen: 2080\n",
            "13 Tokens seen: 2240\n",
            "14 Tokens seen: 2400\n",
            "15 Tokens seen: 2560\n",
            "Epoch: 3, Loss: 0.021579742431640625\n",
            "16 Tokens seen: 2720\n",
            "17 Tokens seen: 2880\n",
            "18 Tokens seen: 3040\n",
            "19 Tokens seen: 3200\n",
            "Epoch: 4, Loss: 0.007117271423339844\n"
          ]
        }
      ],
      "source": [
        "## Gradient Accumulation 코드 적용\n",
        "accumulation_steps = 2 # 그라디언트를 몇 번 누적할지 설정 (배치 사이즈 2 * 4 = 배치 사이즈 8)\n",
        "tokens_seen, global_step = 0, -1\n",
        "losses = []\n",
        "\n",
        "for epoch in range(5):\n",
        "    model.train()\n",
        "\n",
        "    epoch_loss = 0\n",
        "    for i, (input_batch, target_batch) in enumerate(train_loader):\n",
        "        input_batch, target_batch = input_batch.to(device), target_batch.to(device)\n",
        "        logits = model(input_batch).logits\n",
        "        loss = torch.nn.functional.cross_entropy(logits.flatten(0, 1), target_batch.flatten())\n",
        "        loss = loss / accumulation_steps # 그라디언트 누적 단계를 고려하여 loss 스케일링\n",
        "        loss.backward()\n",
        "        epoch_loss += loss.item()\n",
        "\n",
        "        if (i + 1) % accumulation_steps == 0: # 설정한 누적 횟수마다 optimizer.step() 호출\n",
        "            optimizer.step()\n",
        "            optimizer.zero_grad()\n",
        "            tokens_seen += input_batch.numel() * accumulation_steps\n",
        "            global_step += 1\n",
        "            print(f\"{global_step} Tokens seen: {tokens_seen}\")\n",
        "\n",
        "    optimizer.step() # 마지막 남은 그라디언트 업데이트\n",
        "    optimizer.zero_grad()\n",
        "\n",
        "    avg_loss = epoch_loss / len(train_loader)\n",
        "    losses.append(avg_loss)\n",
        "    print(f\"Epoch: {epoch}, Loss: {avg_loss}\")\n",
        "    torch.save(model.state_dict(), \"model_\" + str(epoch).zfill(3) + \".pth\")"
      ]
    },
    {
      "cell_type": "code",
      "execution_count": 9,
      "metadata": {
        "id": "Jiarp4GLIVwU",
        "outputId": "8cfd6a4e-ff93-46b9-ac0b-1ca4a79070c9",
        "colab": {
          "base_uri": "https://localhost:8080/",
          "height": 470
        }
      },
      "outputs": [
        {
          "output_type": "display_data",
          "data": {
            "text/plain": [
              "<Figure size 640x480 with 1 Axes>"
            ],
            "image/png": "[encoded data removed]"
          },
          "metadata": {}
        }
      ],
      "source": [
        "import matplotlib.pyplot as plt\n",
        "\n",
        "plt.plot(losses)\n",
        "plt.xlabel('Epoch')\n",
        "plt.ylabel('Loss')\n",
        "plt.title('Training Loss Over Epochs')\n",
        "plt.show()"
      ]
    },
    {
      "cell_type": "markdown",
      "metadata": {
        "id": "IZLkLinLIVwU"
      },
      "source": [
        "#### 결과확인"
      ]
    },
    {
      "cell_type": "code",
      "source": [
        "## CUDA 할당 메모리 해제\n",
        "del model\n",
        "if 'input_batch' in locals():\n",
        "    del input_batch\n",
        "if 'target_batch' in locals():\n",
        "    del target_batch\n",
        "if 'logits' in locals():\n",
        "    del logits\n",
        "if 'loss' in locals():\n",
        "    del loss\n",
        "torch.cuda.empty_cache()\n",
        "print(\"CUDA 캐시를 비웠습니다.\")"
      ],
      "metadata": {
        "id": "Nng3tChGjmRj",
        "outputId": "2c57f420-af7a-429c-ac0d-543648e7140e",
        "colab": {
          "base_uri": "https://localhost:8080/"
        }
      },
      "execution_count": 26,
      "outputs": [
        {
          "output_type": "stream",
          "name": "stdout",
          "text": [
            "CUDA 캐시를 비웠습니다.\n"
          ]
        }
      ]
    },
    {
      "cell_type": "code",
      "execution_count": 27,
      "metadata": {
        "id": "uNc6m0vtIVwU",
        "outputId": "46bd0186-36cc-4c8e-8662-a31ee21107c6",
        "colab": {
          "base_uri": "https://localhost:8080/"
        }
      },
      "outputs": [
        {
          "output_type": "stream",
          "name": "stdout",
          "text": [
            "모델 로드 실패: CUDA out of memory. Tried to allocate 148.00 MiB. GPU 0 has a total capacity of 6.00 GiB of which 0 bytes is free. Of the allocated memory 19.87 GiB is allocated by PyTorch, and 534.11 MiB is reserved by PyTorch but unallocated. If reserved but unallocated memory is large try setting PYTORCH_CUDA_ALLOC_CONF=expandable_segments:True to avoid fragmentation.  See documentation for Memory Management  (https://pytorch.org/docs/stable/notes/cuda.html#environment-variables)\n",
            "모델을 평가 모드로 설정했습니다.\n"
          ]
        }
      ],
      "source": [
        "# # 파인튜닝 후에 어떻게 응답하는지 확인\n",
        "# model.load_state_dict(torch.load(\"model_005.pth\", map_location=device)) #, weights_only=True))\n",
        "# model.eval()\n",
        "\n",
        "import torch\n",
        "from transformers import AutoModel, AutoTokenizer\n",
        "\n",
        "model_name = \"kakaocorp/kanana-nano-2.1b-base\"\n",
        "\n",
        "model = AutoModel.from_pretrained(\n",
        "    model_name,\n",
        "    torch_dtype=torch.bfloat16,\n",
        "    trust_remote_code=True,\n",
        ").to(device)\n",
        "tokenizer = AutoTokenizer.from_pretrained(model_name, padding_side=\"left\")\n",
        "tokenizer.pad_token = tokenizer.eos_token\n",
        "\n",
        "try:\n",
        "    model.load_state_dict(torch.load(\"model_005.pth\", map_location=device))\n",
        "    print(\"모델 로드 성공!\")\n",
        "except Exception as e:\n",
        "    print(f\"모델 로드 실패: {e}\")\n",
        "\n",
        "model.eval()\n",
        "print(\"모델을 평가 모드로 설정했습니다.\")"
      ]
    },
    {
      "cell_type": "code",
      "execution_count": null,
      "metadata": {
        "id": "YkdBRR52IVwU"
      },
      "outputs": [],
      "source": [
        "questions = [ qna['q'] for qna in qna_list]\n",
        "questions.append(\"홍정모가 매일하는 게임은?\")\n",
        "questions.append(\"홍정모에 대해서 얘기해봐.\")\n",
        "questions.append(\"카나나 모델에 대해서 설명해봐.\")\n",
        "questions.append(\"이처럼 인간처럼 생각하고 행동하는 AI 모델은 \")\n",
        "questions.append(\"인공지능의 장점은\")\n",
        "\n",
        "for i, q in enumerate(questions):\n",
        "\n",
        "    input_ids = tokenizer(\n",
        "        q,\n",
        "        padding=True,\n",
        "        return_tensors=\"pt\",\n",
        "    )[\"input_ids\"].to(\"cuda\")\n",
        "\n",
        "    # print(type(model))\n",
        "\n",
        "    model.eval()\n",
        "    with torch.no_grad():\n",
        "        output = model.generate(\n",
        "            input_ids,\n",
        "            max_new_tokens=32,\n",
        "            attention_mask = (input_ids != 0).long(),\n",
        "            pad_token_id=tokenizer.eos_token_id,\n",
        "            do_sample=False,\n",
        "            # temperature=1.2,\n",
        "            # top_k=5\n",
        "        )\n",
        "\n",
        "    output_list = output.tolist()\n",
        "\n",
        "    print(f\"Q{i}: {tokenizer.decode(output[0], skip_special_tokens=True)}\")\n",
        "\n"
      ]
    },
    {
      "cell_type": "code",
      "execution_count": null,
      "metadata": {
        "id": "0SBJCML3IVwU"
      },
      "outputs": [],
      "source": [
        "input_ids = tokenizer(\n",
        "    input(),\n",
        "    padding=True,\n",
        "    return_tensors=\"pt\",\n",
        ")[\"input_ids\"].to(\"cuda\")\n",
        "\n",
        "# print(type(model))\n",
        "\n",
        "model.eval()\n",
        "with torch.no_grad():\n",
        "    output = model.generate(\n",
        "        input_ids,\n",
        "        max_new_tokens=32,\n",
        "        attention_mask = (input_ids != 0).long(),\n",
        "        pad_token_id=tokenizer.eos_token_id,\n",
        "        do_sample=False,\n",
        "        # temperature=1.2,\n",
        "        # top_k=5\n",
        "    )\n",
        "\n",
        "output_list = output.tolist()\n",
        "\n",
        "print(f\"Q{i}: {tokenizer.decode(output[0], skip_special_tokens=True)}\")"
      ]
    },
    {
      "cell_type": "markdown",
      "metadata": {
        "id": "o6o4rISyIVwU"
      },
      "source": [
        "#### 기타\n",
        "\n",
        "허깅페이스 코드 참고한 부분들\n",
        "- [라마 모델](https://github.com/huggingface/transformers/blob/main/src/transformers/models/llama/modeling_llama.py)\n",
        "- [대답 생성하는 부분(generate)](https://github.com/huggingface/transformers/blob/main/src/transformers/generation/utils.py#L1906)\n",
        "- [실제로 모델을 사용하는 부분(forward)](https://github.com/huggingface/transformers/blob/main/src/transformers/generation/utils.py#L2827)\n",
        "- [훈련(train)](https://github.com/huggingface/transformers/blob/main/src/transformers/trainer.py#L2612)"
      ]
    }
  ],
  "metadata": {
    "kernelspec": {
      "display_name": "py312",
      "language": "python",
      "name": "python3"
    },
    "language_info": {
      "codemirror_mode": {
        "name": "ipython",
        "version": 3
      },
      "file_extension": ".py",
      "mimetype": "text/x-python",
      "name": "python",
      "nbconvert_exporter": "python",
      "pygments_lexer": "ipython3",
      "version": "3.12.0"
    },
    "colab": {
      "provenance": []
    }
  },
  "nbformat": 4,
  "nbformat_minor": 0
}