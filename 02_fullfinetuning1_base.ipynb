{
  "cells": [
    {
      "cell_type": "markdown",
      "metadata": {
        "id": "7wS-RgHFly3l"
      },
      "source": [
        "___\n",
        "<a href='https://honglab.ai'><p style=\"text-align:center;\"><img src='https://lh3.googleusercontent.com/lY3ySXooSmwsq5r-mRi7uiypbo0Vez6pmNoQxMFhl9fmZJkRHu5lO2vo7se_0YOzgmDyJif9fi4_z0o3ZFdwd8NVSWG6Ea80uWaf3pOHpR4GHGDV7kaFeuHR3yAjIJjDgfXMxsvw=w2400'  class=\"center\" width=\"50%\" height=\"50%\"/></p></a>\n",
        "___\n",
        "<center><em>Content Copyright by HongLab, Inc.</em></center>"
      ]
    },
    {
      "cell_type": "markdown",
      "metadata": {
        "id": "PHiinzyely3n"
      },
      "source": [
        "#### 전체 미세조정(Full Fine-Tuning)\n",
        "\n",
        "참고 자료\n",
        "- [Build a Large Language Model (From Scratch)](https://www.manning.com/books/build-a-large-language-model-from-scratch) Chapter 7\n",
        "- [Kanana: Compute-efficient Bilingual Language Models](https://arxiv.org/abs/2502.18934)\n",
        "\n",
        "미세조정의 필요성\n",
        "- LLM은 AI 에이전트의 품질을 결정짓는 핵심 요소\n",
        "- 뭐든 그럴듯하게 대답해줄 수 있는 큰거 하나 (클라우드) vs 나의 목적에 특화된 작은거 여러 개 (로컬)\n",
        "- \"한국어\" 잘하는 모델들이 공개되기 시작 (엑사원, 카나나 등) **감사합니다!**\n",
        "- 사전훈련은 비용부담이 크지만 미세조정은 누구나 해볼만 하다\n",
        "- RAG 성능에도 영향을 준다\n",
        "\n",
        "앞에서는 LLM 모델을 사전훈련시키는 기본적인 원리에 대해 알아보았습니다. 사전훈련은 모델이 기본적인 언어 능력을 갖추도록 학습시키는 것으로 볼 수 있습니다. 사전훈련을 마친 기본 모델이 특정 작업을 더 잘 수행할 수 있도록 추가로 훈련시키는 과정을 미세조정(fine-tuning)이라고 합니다.\n",
        "\n",
        "LLM을 훈련시킬 때는 GPU 사용료가 큰 부담이 된다는 것은 널리 알려진 사실입니다. 다행스럽게도 미세조정을 잘 활용하면 훨씬 적은 비용으로 나의 특정 용도에 최적화된 모델을 만들 수 있습니다. 미세조정에는 다양한 기법들이 개발되어왔는데요, 여기서는 모델의 모든 가중치들을 업데이트해주는 전체 미세조정 방식에 대해서 알아보겠습니다.\n",
        "\n",
        "[안내]\n",
        "- 본 내용은 쉬운 이해를 돕기 위해 최소한의 예제를 바탕으로 작성되었습니다. 실제 적용 범위에 대한 오해가 없으시길 바랍니다.\n",
        "- 혹시 영상 업로드 후에 수정해야할 오류가 발견되면 강의노트에 적어두겠습니다."
      ]
    },
    {
      "cell_type": "markdown",
      "metadata": {
        "id": "eE6q9Gxlly3n"
      },
      "source": [
        "#### 모델 준비\n",
        "\n",
        "여기에서는 [카카오 나노 2.1b 베이스 모델](https://huggingface.co/kakaocorp/kanana-nano-2.1b-base)을 사용하겠습니다."
      ]
    },
    {
      "cell_type": "code",
      "source": [
        "pip install transformers"
      ],
      "metadata": {
        "id": "MefPond7p4Cb",
        "outputId": "b51e1597-179a-42a6-ed51-2274a17034d2",
        "colab": {
          "base_uri": "https://localhost:8080/"
        }
      },
      "execution_count": 3,
      "outputs": [
        {
          "output_type": "stream",
          "name": "stdout",
          "text": [
            "Collecting transformers\n",
            "  Downloading transformers-4.50.0-py3-none-any.whl.metadata (39 kB)\n",
            "Requirement already satisfied: filelock in c:\\users\\jjj90\\anaconda3\\lib\\site-packages (from transformers) (3.13.1)\n",
            "Collecting huggingface-hub<1.0,>=0.26.0 (from transformers)\n",
            "  Downloading huggingface_hub-0.29.3-py3-none-any.whl.metadata (13 kB)\n",
            "Requirement already satisfied: numpy>=1.17 in c:\\users\\jjj90\\anaconda3\\lib\\site-packages (from transformers) (1.26.4)\n",
            "Requirement already satisfied: packaging>=20.0 in c:\\users\\jjj90\\anaconda3\\lib\\site-packages (from transformers) (24.1)\n",
            "Requirement already satisfied: pyyaml>=5.1 in c:\\users\\jjj90\\anaconda3\\lib\\site-packages (from transformers) (6.0.1)\n",
            "Requirement already satisfied: regex!=2019.12.17 in c:\\users\\jjj90\\anaconda3\\lib\\site-packages (from transformers) (2024.9.11)\n",
            "Requirement already satisfied: requests in c:\\users\\jjj90\\anaconda3\\lib\\site-packages (from transformers) (2.32.3)\n",
            "Collecting tokenizers<0.22,>=0.21 (from transformers)\n",
            "  Downloading tokenizers-0.21.1-cp39-abi3-win_amd64.whl.metadata (6.9 kB)\n",
            "Collecting safetensors>=0.4.3 (from transformers)\n",
            "  Downloading safetensors-0.5.3-cp38-abi3-win_amd64.whl.metadata (3.9 kB)\n",
            "Requirement already satisfied: tqdm>=4.27 in c:\\users\\jjj90\\anaconda3\\lib\\site-packages (from transformers) (4.66.5)\n",
            "Requirement already satisfied: fsspec>=2023.5.0 in c:\\users\\jjj90\\anaconda3\\lib\\site-packages (from huggingface-hub<1.0,>=0.26.0->transformers) (2024.6.1)\n",
            "Requirement already satisfied: typing-extensions>=3.7.4.3 in c:\\users\\jjj90\\anaconda3\\lib\\site-packages (from huggingface-hub<1.0,>=0.26.0->transformers) (4.11.0)\n",
            "Requirement already satisfied: colorama in c:\\users\\jjj90\\anaconda3\\lib\\site-packages (from tqdm>=4.27->transformers) (0.4.6)\n",
            "Requirement already satisfied: charset-normalizer<4,>=2 in c:\\users\\jjj90\\anaconda3\\lib\\site-packages (from requests->transformers) (3.3.2)\n",
            "Requirement already satisfied: idna<4,>=2.5 in c:\\users\\jjj90\\anaconda3\\lib\\site-packages (from requests->transformers) (3.7)\n",
            "Requirement already satisfied: urllib3<3,>=1.21.1 in c:\\users\\jjj90\\anaconda3\\lib\\site-packages (from requests->transformers) (2.2.3)\n",
            "Requirement already satisfied: certifi>=2017.4.17 in c:\\users\\jjj90\\anaconda3\\lib\\site-packages (from requests->transformers) (2024.8.30)\n",
            "Downloading transformers-4.50.0-py3-none-any.whl (10.2 MB)\n",
            "   ---------------------------------------- 0.0/10.2 MB ? eta -:--:--\n",
            "   ---------------------------------------- 0.0/10.2 MB ? eta -:--:--\n",
            "   - -------------------------------------- 0.3/10.2 MB ? eta -:--:--\n",
            "   - -------------------------------------- 0.3/10.2 MB ? eta -:--:--\n",
            "   -- ------------------------------------- 0.5/10.2 MB 764.3 kB/s eta 0:00:13\n",
            "   -- ------------------------------------- 0.5/10.2 MB 764.3 kB/s eta 0:00:13\n",
            "   --- ------------------------------------ 0.8/10.2 MB 730.2 kB/s eta 0:00:13\n",
            "   --- ------------------------------------ 0.8/10.2 MB 730.2 kB/s eta 0:00:13\n",
            "   ---- ----------------------------------- 1.0/10.2 MB 699.0 kB/s eta 0:00:14\n",
            "   ---- ----------------------------------- 1.0/10.2 MB 699.0 kB/s eta 0:00:14\n",
            "   ----- ---------------------------------- 1.3/10.2 MB 684.9 kB/s eta 0:00:13\n",
            "   ----- ---------------------------------- 1.3/10.2 MB 684.9 kB/s eta 0:00:13\n",
            "   ------ --------------------------------- 1.6/10.2 MB 699.0 kB/s eta 0:00:13\n",
            "   ------ --------------------------------- 1.6/10.2 MB 699.0 kB/s eta 0:00:13\n",
            "   ------ --------------------------------- 1.6/10.2 MB 699.0 kB/s eta 0:00:13\n",
            "   ------ --------------------------------- 1.6/10.2 MB 699.0 kB/s eta 0:00:13\n",
            "   ------- -------------------------------- 1.8/10.2 MB 572.0 kB/s eta 0:00:15\n",
            "   ------- -------------------------------- 1.8/10.2 MB 572.0 kB/s eta 0:00:15\n",
            "   ------- -------------------------------- 1.8/10.2 MB 572.0 kB/s eta 0:00:15\n",
            "   ------- -------------------------------- 1.8/10.2 MB 572.0 kB/s eta 0:00:15\n",
            "   ------- -------------------------------- 1.8/10.2 MB 572.0 kB/s eta 0:00:15\n",
            "   -------- ------------------------------- 2.1/10.2 MB 485.3 kB/s eta 0:00:17\n",
            "   -------- ------------------------------- 2.1/10.2 MB 485.3 kB/s eta 0:00:17\n",
            "   -------- ------------------------------- 2.1/10.2 MB 485.3 kB/s eta 0:00:17\n",
            "   -------- ------------------------------- 2.1/10.2 MB 485.3 kB/s eta 0:00:17\n",
            "   --------- ------------------------------ 2.4/10.2 MB 441.5 kB/s eta 0:00:18\n",
            "   --------- ------------------------------ 2.4/10.2 MB 441.5 kB/s eta 0:00:18\n",
            "   --------- ------------------------------ 2.4/10.2 MB 441.5 kB/s eta 0:00:18\n",
            "   --------- ------------------------------ 2.4/10.2 MB 441.5 kB/s eta 0:00:18\n",
            "   ---------- ----------------------------- 2.6/10.2 MB 425.4 kB/s eta 0:00:18\n",
            "   ---------- ----------------------------- 2.6/10.2 MB 425.4 kB/s eta 0:00:18\n",
            "   ---------- ----------------------------- 2.6/10.2 MB 425.4 kB/s eta 0:00:18\n",
            "   ---------- ----------------------------- 2.6/10.2 MB 425.4 kB/s eta 0:00:18\n",
            "   ----------- ---------------------------- 2.9/10.2 MB 407.2 kB/s eta 0:00:18\n",
            "   ----------- ---------------------------- 2.9/10.2 MB 407.2 kB/s eta 0:00:18\n",
            "   ----------- ---------------------------- 2.9/10.2 MB 407.2 kB/s eta 0:00:18\n",
            "   ----------- ---------------------------- 2.9/10.2 MB 407.2 kB/s eta 0:00:18\n",
            "   ------------ --------------------------- 3.1/10.2 MB 392.7 kB/s eta 0:00:18\n",
            "   ------------ --------------------------- 3.1/10.2 MB 392.7 kB/s eta 0:00:18\n",
            "   ------------ --------------------------- 3.1/10.2 MB 392.7 kB/s eta 0:00:18\n",
            "   ------------ --------------------------- 3.1/10.2 MB 392.7 kB/s eta 0:00:18\n",
            "   ------------- -------------------------- 3.4/10.2 MB 388.7 kB/s eta 0:00:18\n",
            "   ------------- -------------------------- 3.4/10.2 MB 388.7 kB/s eta 0:00:18\n",
            "   ------------- -------------------------- 3.4/10.2 MB 388.7 kB/s eta 0:00:18\n",
            "   ------------- -------------------------- 3.4/10.2 MB 388.7 kB/s eta 0:00:18\n",
            "   -------------- ------------------------- 3.7/10.2 MB 384.0 kB/s eta 0:00:17\n",
            "   -------------- ------------------------- 3.7/10.2 MB 384.0 kB/s eta 0:00:17\n",
            "   -------------- ------------------------- 3.7/10.2 MB 384.0 kB/s eta 0:00:17\n",
            "   -------------- ------------------------- 3.7/10.2 MB 384.0 kB/s eta 0:00:17\n",
            "   --------------- ------------------------ 3.9/10.2 MB 377.7 kB/s eta 0:00:17\n",
            "   --------------- ------------------------ 3.9/10.2 MB 377.7 kB/s eta 0:00:17\n",
            "   --------------- ------------------------ 3.9/10.2 MB 377.7 kB/s eta 0:00:17\n",
            "   ---------------- ----------------------- 4.2/10.2 MB 378.5 kB/s eta 0:00:16\n",
            "   ---------------- ----------------------- 4.2/10.2 MB 378.5 kB/s eta 0:00:16\n",
            "   ---------------- ----------------------- 4.2/10.2 MB 378.5 kB/s eta 0:00:16\n",
            "   ----------------- ---------------------- 4.5/10.2 MB 379.2 kB/s eta 0:00:16\n",
            "   ----------------- ---------------------- 4.5/10.2 MB 379.2 kB/s eta 0:00:16\n",
            "   ----------------- ---------------------- 4.5/10.2 MB 379.2 kB/s eta 0:00:16\n",
            "   ------------------ --------------------- 4.7/10.2 MB 380.3 kB/s eta 0:00:15\n",
            "   ------------------ --------------------- 4.7/10.2 MB 380.3 kB/s eta 0:00:15\n",
            "   ------------------ --------------------- 4.7/10.2 MB 380.3 kB/s eta 0:00:15\n",
            "   ------------------ --------------------- 4.7/10.2 MB 380.3 kB/s eta 0:00:15\n",
            "   ------------------- -------------------- 5.0/10.2 MB 380.3 kB/s eta 0:00:14\n",
            "   ------------------- -------------------- 5.0/10.2 MB 380.3 kB/s eta 0:00:14\n",
            "   ------------------- -------------------- 5.0/10.2 MB 380.3 kB/s eta 0:00:14\n",
            "   -------------------- ------------------- 5.2/10.2 MB 379.1 kB/s eta 0:00:14\n",
            "   -------------------- ------------------- 5.2/10.2 MB 379.1 kB/s eta 0:00:14\n",
            "   -------------------- ------------------- 5.2/10.2 MB 379.1 kB/s eta 0:00:14\n",
            "   --------------------- ------------------ 5.5/10.2 MB 383.9 kB/s eta 0:00:13\n",
            "   --------------------- ------------------ 5.5/10.2 MB 383.9 kB/s eta 0:00:13\n",
            "   ---------------------- ----------------- 5.8/10.2 MB 389.7 kB/s eta 0:00:12\n",
            "   ---------------------- ----------------- 5.8/10.2 MB 389.7 kB/s eta 0:00:12\n",
            "   ---------------------- ----------------- 5.8/10.2 MB 389.7 kB/s eta 0:00:12\n",
            "   ---------------------- ----------------- 5.8/10.2 MB 389.7 kB/s eta 0:00:12\n",
            "   ----------------------- ---------------- 6.0/10.2 MB 382.9 kB/s eta 0:00:11\n",
            "   ----------------------- ---------------- 6.0/10.2 MB 382.9 kB/s eta 0:00:11\n",
            "   ----------------------- ---------------- 6.0/10.2 MB 382.9 kB/s eta 0:00:11\n",
            "   ------------------------ --------------- 6.3/10.2 MB 388.2 kB/s eta 0:00:11\n",
            "   ------------------------ --------------- 6.3/10.2 MB 388.2 kB/s eta 0:00:11\n",
            "   ------------------------- -------------- 6.6/10.2 MB 394.8 kB/s eta 0:00:10\n",
            "   -------------------------- ------------- 6.8/10.2 MB 402.2 kB/s eta 0:00:09\n",
            "   -------------------------- ------------- 6.8/10.2 MB 402.2 kB/s eta 0:00:09\n",
            "   --------------------------- ------------ 7.1/10.2 MB 410.4 kB/s eta 0:00:08\n",
            "   ---------------------------- ----------- 7.3/10.2 MB 419.8 kB/s eta 0:00:07\n",
            "   ----------------------------- ---------- 7.6/10.2 MB 428.2 kB/s eta 0:00:07\n",
            "   ------------------------------ --------- 7.9/10.2 MB 437.2 kB/s eta 0:00:06\n",
            "   ------------------------------ --------- 7.9/10.2 MB 437.2 kB/s eta 0:00:06\n",
            "   ------------------------------- -------- 8.1/10.2 MB 444.2 kB/s eta 0:00:05\n",
            "   -------------------------------- ------- 8.4/10.2 MB 452.7 kB/s eta 0:00:04\n",
            "   -------------------------------- ------- 8.4/10.2 MB 452.7 kB/s eta 0:00:04\n",
            "   --------------------------------- ------ 8.7/10.2 MB 459.6 kB/s eta 0:00:04\n",
            "   ----------------------------------- ---- 8.9/10.2 MB 466.0 kB/s eta 0:00:03\n",
            "   ------------------------------------ --- 9.2/10.2 MB 475.0 kB/s eta 0:00:03\n",
            "   ------------------------------------- -- 9.4/10.2 MB 481.3 kB/s eta 0:00:02\n",
            "   ------------------------------------- -- 9.4/10.2 MB 481.3 kB/s eta 0:00:02\n",
            "   -------------------------------------- - 9.7/10.2 MB 487.9 kB/s eta 0:00:01\n",
            "   ---------------------------------------  10.0/10.2 MB 493.1 kB/s eta 0:00:01\n",
            "   ---------------------------------------- 10.2/10.2 MB 499.2 kB/s eta 0:00:00\n",
            "Downloading huggingface_hub-0.29.3-py3-none-any.whl (468 kB)\n",
            "Downloading safetensors-0.5.3-cp38-abi3-win_amd64.whl (308 kB)\n",
            "Downloading tokenizers-0.21.1-cp39-abi3-win_amd64.whl (2.4 MB)\n",
            "   ---------------------------------------- 0.0/2.4 MB ? eta -:--:--\n",
            "   ---------------------------------------- 0.0/2.4 MB ? eta -:--:--\n",
            "   ---- ----------------------------------- 0.3/2.4 MB ? eta -:--:--\n",
            "   -------- ------------------------------- 0.5/2.4 MB 929.6 kB/s eta 0:00:03\n",
            "   -------- ------------------------------- 0.5/2.4 MB 929.6 kB/s eta 0:00:03\n",
            "   ------------ --------------------------- 0.8/2.4 MB 882.6 kB/s eta 0:00:02\n",
            "   ----------------- ---------------------- 1.0/2.4 MB 967.3 kB/s eta 0:00:02\n",
            "   --------------------- ------------------ 1.3/2.4 MB 1.0 MB/s eta 0:00:02\n",
            "   ------------------------- -------------- 1.6/2.4 MB 1.0 MB/s eta 0:00:01\n",
            "   ------------------------------ --------- 1.8/2.4 MB 1.0 MB/s eta 0:00:01\n",
            "   ---------------------------------- ----- 2.1/2.4 MB 1.1 MB/s eta 0:00:01\n",
            "   -------------------------------------- - 2.4/2.4 MB 1.0 MB/s eta 0:00:01\n",
            "   ---------------------------------------- 2.4/2.4 MB 1.0 MB/s eta 0:00:00\n",
            "Installing collected packages: safetensors, huggingface-hub, tokenizers, transformers\n",
            "Successfully installed huggingface-hub-0.29.3 safetensors-0.5.3 tokenizers-0.21.1 transformers-4.50.0\n",
            "Note: you may need to restart the kernel to use updated packages.\n"
          ]
        }
      ]
    },
    {
      "cell_type": "code",
      "execution_count": null,
      "metadata": {
        "id": "r6Oc9x0Xly3o",
        "outputId": "b51c663d-16e9-4966-e3fb-ccef20d8d84c",
        "colab": {
          "base_uri": "https://localhost:8080/",
          "height": 156,
          "referenced_widgets": [
            "01c97eb8221949f4bfd9a7027d8281c9",
            "44fd15612f994960be0afad856f6324d",
            "2e2abe25cf834b5b84fabb37c69c459f",
            "d80fbbd149e3497cbf85c8c809825fc9",
            "c7b3c3a327fd4624935972dca387e257",
            "3582402485ed4533b1711ec3ba204c12",
            "f99b8166ce81422c8b0317330e9a187e",
            "4b038cfd45c1405fb7014d4f84e99133",
            "15c3b11e66e24dc083c75ebdfcc5f477",
            "f59a8c74e4fb4421b099a6a14f686533",
            "97d4f353392d46019348bd35e68c1e1a",
            "b44d1f2ed2dd451bbbcdd204aec71809",
            "23984bf6c218471a9c6fbcdbbd3c9630",
            "55d69ef165fc4b89be1d23913ab0f21c",
            "6f613be7264f46debb5cbd375c83dfa5",
            "3e744ac193a641aca2017b24381cf589",
            "db9a8aa2a879451a83b2f88105f3ecf6",
            "0d42c0214d3a4ff186ab34023dd562aa",
            "ed27f36939904e33a507b1dc506c1eff",
            "42e23d6207194a4e986591fab3ca9568",
            "652a9d800b534f40ae7632996dc8ec2a",
            "5a655f66704e401fb47ab7e66f148b36"
          ]
        }
      },
      "outputs": [
        {
          "output_type": "display_data",
          "data": {
            "text/plain": [
              "config.json:   0%|          | 0.00/692 [00:00<?, ?B/s]"
            ],
            "application/vnd.jupyter.widget-view+json": {
              "version_major": 2,
              "version_minor": 0,
              "model_id": "01c97eb8221949f4bfd9a7027d8281c9"
            }
          },
          "metadata": {}
        },
        {
          "output_type": "stream",
          "name": "stderr",
          "text": [
            "C:\\Users\\jjj90\\anaconda3\\Lib\\site-packages\\huggingface_hub\\file_download.py:142: UserWarning: `huggingface_hub` cache-system uses symlinks by default to efficiently store duplicated files but your machine does not support them in C:\\Users\\jjj90\\.cache\\huggingface\\hub\\models--kakaocorp--kanana-nano-2.1b-base. Caching files will still work but in a degraded version that might require more space on your disk. This warning can be disabled by setting the `HF_HUB_DISABLE_SYMLINKS_WARNING` environment variable. For more details, see https://huggingface.co/docs/huggingface_hub/how-to-cache#limitations.\n",
            "To support symlinks on Windows, you either need to activate Developer Mode or to run Python as an administrator. In order to activate developer mode, see this article: https://docs.microsoft.com/en-us/windows/apps/get-started/enable-your-device-for-development\n",
            "  warnings.warn(message)\n"
          ]
        },
        {
          "output_type": "display_data",
          "data": {
            "text/plain": [
              "model.safetensors:   0%|          | 0.00/4.17G [00:00<?, ?B/s]"
            ],
            "application/vnd.jupyter.widget-view+json": {
              "version_major": 2,
              "version_minor": 0,
              "model_id": "b44d1f2ed2dd451bbbcdd204aec71809"
            }
          },
          "metadata": {}
        }
      ],
      "source": [
        "import torch\n",
        "from transformers import AutoModelForCausalLM, AutoTokenizer\n",
        "\n",
        "model_name = \"kakaocorp/kanana-nano-2.1b-base\"\n",
        "\n",
        "model = AutoModelForCausalLM.from_pretrained(\n",
        "    model_name,\n",
        "    torch_dtype=torch.bfloat16,\n",
        "    trust_remote_code=True,\n",
        ").to(\"cuda\")\n",
        "tokenizer = AutoTokenizer.from_pretrained(model_name, padding_side=\"left\")\n",
        "tokenizer.pad_token = tokenizer.eos_token # <|end_of_text|> 128001"
      ]
    },
    {
      "cell_type": "markdown",
      "metadata": {
        "id": "y_-hWAcxly3p"
      },
      "source": [
        "#### 데이터셋 준비"
      ]
    },
    {
      "cell_type": "code",
      "execution_count": 1,
      "metadata": {
        "id": "upIn3lHuly3p",
        "outputId": "b05f88fa-fdee-44aa-859e-bb95a5b8a906",
        "colab": {
          "base_uri": "https://localhost:8080/",
          "height": 221
        }
      },
      "outputs": [
        {
          "output_type": "error",
          "ename": "UnicodeDecodeError",
          "evalue": "'cp949' codec can't decode byte 0xeb in position 0: illegal multibyte sequence",
          "traceback": [
            "\u001b[1;31m---------------------------------------------------------------------------\u001b[0m",
            "\u001b[1;31mUnicodeDecodeError\u001b[0m                        Traceback (most recent call last)",
            "Cell \u001b[1;32mIn[1], line 3\u001b[0m\n\u001b[0;32m      1\u001b[0m qna_list \u001b[38;5;241m=\u001b[39m []\n\u001b[0;32m      2\u001b[0m \u001b[38;5;28;01mwith\u001b[39;00m \u001b[38;5;28mopen\u001b[39m(\u001b[38;5;124m\"\u001b[39m\u001b[38;5;124mjmcustomdata.txt\u001b[39m\u001b[38;5;124m\"\u001b[39m, \u001b[38;5;124m\"\u001b[39m\u001b[38;5;124mr\u001b[39m\u001b[38;5;124m\"\u001b[39m) \u001b[38;5;28;01mas\u001b[39;00m file:\n\u001b[1;32m----> 3\u001b[0m     \u001b[38;5;28;01mfor\u001b[39;00m line \u001b[38;5;129;01min\u001b[39;00m file:\n\u001b[0;32m      4\u001b[0m         qna \u001b[38;5;241m=\u001b[39m line\u001b[38;5;241m.\u001b[39mstrip()\u001b[38;5;241m.\u001b[39msplit(\u001b[38;5;124m'\u001b[39m\u001b[38;5;124m|\u001b[39m\u001b[38;5;124m'\u001b[39m) \u001b[38;5;66;03m# 안내: 입력 문서의 '|'는 질문과 답변을 구분하는 문자\u001b[39;00m\n\u001b[0;32m      5\u001b[0m         input_str \u001b[38;5;241m=\u001b[39m qna[\u001b[38;5;241m0\u001b[39m] \u001b[38;5;241m+\u001b[39m \u001b[38;5;124m\"\u001b[39m\u001b[38;5;124m \u001b[39m\u001b[38;5;124m\"\u001b[39m \u001b[38;5;241m+\u001b[39m qna[\u001b[38;5;241m1\u001b[39m]\n",
            "\u001b[1;31mUnicodeDecodeError\u001b[0m: 'cp949' codec can't decode byte 0xeb in position 0: illegal multibyte sequence"
          ]
        }
      ],
      "source": [
        "qna_list = []\n",
        "with open(\"jjcustomdata.txt\", \"r\") as file:\n",
        "    for line in file:\n",
        "        qna = line.strip().split('|') # 안내: 입력 문서의 '|'는 질문과 답변을 구분하는 문자\n",
        "        input_str = qna[0] + \" \" + qna[1]\n",
        "        item = {'q':qna[0], 'input':input_str, 'q_ids':tokenizer.encode(qna[0]), 'input_ids':tokenizer.encode(input_str)}\n",
        "        qna_list.append(item)\n",
        "\n",
        "max_length = max(len(item['input_ids']) for item in qna_list) # + 1은 질문답변 사이의 빈칸\n",
        "\n",
        "print(qna_list)\n",
        "print(max_length)"
      ]
    },
    {
      "cell_type": "code",
      "execution_count": null,
      "metadata": {
        "id": "kUA3AF77ly3q",
        "outputId": "6aced0a6-2edb-48d3-d094-76ed8dc17743"
      },
      "outputs": [
        {
          "name": "stderr",
          "output_type": "stream",
          "text": [
            "The attention mask and the pad token id were not set. As a consequence, you may observe unexpected behavior. Please pass your input's `attention_mask` to obtain reliable results.\n",
            "Setting `pad_token_id` to `eos_token_id`:128001 for open-end generation.\n",
            "The attention mask is not set and cannot be inferred from input because pad token is same as eos token. As a consequence, you may observe unexpected behavior. Please pass your input's `attention_mask` to obtain reliable results.\n"
          ]
        },
        {
          "name": "stdout",
          "output_type": "stream",
          "text": [
            "Q0: 다음 숫자들을 얘기해봐 12345 123456789 1234567890123456789 123456789012345678901234567890123456789012345678901234567\n",
            "Q1: 홍정모가 좋아하는 과일은??\n",
            "홍정모가 좋아하는 과일은?  홍정모가 좋아하는 과일은?  홍정모가 좋아하는 과일은\n",
            "Q2: 홍정모가 좋아하는 게임은? 1. 2. 3. 4. 5. 6. 7. 8. 9. 10. 11\n",
            "Q3: 홍정모가 자주 가는 여행지는? (feat. 홍정모의 나혼자 코딩)\n",
            "홍정모의 나혼자 코딩 저자 홍정모 출판 인사이트 발매\n",
            "Q4: 홍정모의 취미는 무엇인가요? (feat. 홍정모의 파이썬 코딩 강의)\n",
            "홍정모의 파이썬 코딩 강의를 듣\n",
            "Q5: 홍정모가 좋아하는 계절은 무엇인가요? 홍정모가 좋아하는 계절은 봄입니다. 봄은 새로운 시작과 희망을 상징하는 계절로, 홍정모\n",
            "Q6: 홍정모의 특기는 무엇인가요? (feat. 홍정모의 수학미적분학)\n",
            "홍정모의 특기는 무엇인가요? (feat. 홍정모의 수\n",
            "Q7: 홍정모가 자주 듣는 음악 장르는? (feat. 음악 추천)\n",
            "홍정모가 자주 듣는 음악 장르는? (feat. 음악 추천)  홍정모가 자주 듣\n",
            "Q8: 홍정모가 가장 좋아하는 색깔은? (feat. 색깔의 힘)\n",
            "홍정모가 가장 좋아하는 색깔은? (feat. 색깔의 힘)  홍\n",
            "Q9: 홍정모가 선호하는 영화 장르는? (feat. 영화 추천)\n",
            "홍정모가 선호하는 영화 장르는? (feat. 영화 추천)  홍정모가 선호하는 영화\n",
            "Q10: 홍정모가 좋아하는 운동은??\n",
            "안녕하세요. 홍정모입니다. 오늘은 제가 좋아하는 운동에 대해 이야기해보려고 합니다. 저는 운동을 좋아하는 사람 중 한 명\n",
            "Q11: 홍정모는 어떤 동물을 좋아하나요? 1. 홍정모는 어떤 동물을 좋아하나요? 2. 홍정모는 어떤 동물을 좋아하나요? 3. 홍\n",
            "Q12: 홍정모가 주로 사용하는 소셜 미디어는? 1. 페이스북 2. 인스타그램 3. 트위터 4. 유튜브 5. 블로그 \n",
            "Q13: 홍정모가 좋아하는 음식은??\n",
            "홍정모가 좋아하는 음식은? 홍정모가 좋아하는 음식은? 홍정모가 좋아하는 음식은? 홍\n",
            "Q14: 홍정모가 가장 최근에 본 드라마는 무엇인가요?  홍정모가 가장 최근에 본 드라마는 무엇인가요?  홍정모가 가장 최근에 본 드라마는 무엇인가요?  홍\n",
            "Q15: 홍정모가 싫어하는 게임은 뭔가요? 1. 게임을 하면서도 공부를 할 수 있는 게임을 좋아합니다. 2. 게임을 하면서도 공부를 할 수 있는 게임\n",
            "Q16: 너에 대해서 설명해봐.  1. 2. 3. 4. 5. 6. 7. 8. 9. 10. \n",
            "Q17: 이처럼 인간처럼 생각하고 행동하는 AI 모델은 2016년 알파고가 등장하면서 본격적으로 주목받기 시작했다. 알파고는 딥러닝을 기반으로 한 인\n",
            "Q18: 인공지능의 장점은 무엇인가요? 인공지능은 인간의 지능을 모방하여 다양한 작업을 수행할 수 있는 컴퓨터 시스템입니다. 인공지능은\n",
            "Q19: 홍정모에 대해서 얘기해봐. 홍정모는 누구야?\n",
            "홍정모에 대해서 얘기해봐. 홍정모는 누구야? 홍정모는 누구야? 홍\n"
          ]
        }
      ],
      "source": [
        "# 파인튜닝 전에 어떻게 응답하는지 확인\n",
        "\n",
        "questions = [ qna['q'] for qna in qna_list]\n",
        "questions.append(\"너에 대해서 설명해봐.\")\n",
        "questions.append(\"이처럼 인간처럼 생각하고 행동하는 AI 모델은 \")\n",
        "questions.append(\"인공지능의 장점은\")\n",
        "questions.append(\"홍정모에 대해서 얘기해봐.\")\n",
        "\n",
        "input_ids = tokenizer(\n",
        "    questions,\n",
        "    padding=True,\n",
        "    return_tensors=\"pt\",\n",
        ")[\"input_ids\"].to(\"cuda\")\n",
        "\n",
        "# print(type(model))\n",
        "\n",
        "model.eval()\n",
        "with torch.no_grad():\n",
        "    output = model.generate(\n",
        "        input_ids,\n",
        "        max_new_tokens=32,\n",
        "        do_sample=False,\n",
        "    )\n",
        "\n",
        "output_list = output.tolist()\n",
        "\n",
        "for i, output in enumerate(output_list):\n",
        "    print(f\"Q{i}: {tokenizer.decode(output, skip_special_tokens=True)}\")"
      ]
    },
    {
      "cell_type": "markdown",
      "metadata": {
        "id": "OFZ7DkGSly3q"
      },
      "source": [
        "Collate\n",
        "- [파이토치 CrossEntropy의 ignore index = -100](https://pytorch.org/docs/stable/generated/torch.nn.CrossEntropyLoss.html)"
      ]
    },
    {
      "cell_type": "code",
      "execution_count": null,
      "metadata": {
        "id": "rJNug_uhly3r"
      },
      "outputs": [],
      "source": [
        "import torch\n",
        "from torch.utils.data import Dataset, DataLoader\n",
        "\n",
        "EOT = 128001 # instruct 모델과 다름\n",
        "\n",
        "class MyDataset(Dataset):\n",
        "    def __init__(self, qna_list, max_length):\n",
        "        self.input_ids = []\n",
        "        self.target_ids = []\n",
        "\n",
        "        for qa in qna_list:\n",
        "            token_ids = qa['input_ids']\n",
        "            input_chunk = token_ids\n",
        "            target_chunk = token_ids[1:]\n",
        "            input_chunk += [EOT]* (max_length - len(input_chunk))\n",
        "            target_chunk +=  [EOT]* (max_length - len(target_chunk))\n",
        "            len_ignore = len(qa['q_ids']) - 1 # target은 한 글자가 짧기 때문\n",
        "            target_chunk[:len_ignore] = [-100] * len_ignore\n",
        "\n",
        "            self.input_ids.append(torch.tensor(input_chunk))\n",
        "            self.target_ids.append(torch.tensor(target_chunk))\n",
        "\n",
        "    def __len__(self):\n",
        "        return len(self.input_ids)\n",
        "\n",
        "    def __getitem__(self, idx):\n",
        "        return self.input_ids[idx], self.target_ids[idx]\n",
        "\n",
        "dataset = MyDataset(qna_list, max_length=max_length)\n",
        "\n",
        "train_loader = DataLoader(dataset, batch_size=2, shuffle=True, drop_last=False)"
      ]
    },
    {
      "cell_type": "code",
      "execution_count": null,
      "metadata": {
        "id": "9m75AEioly3r"
      },
      "outputs": [],
      "source": [
        "i = iter(train_loader)"
      ]
    },
    {
      "cell_type": "code",
      "execution_count": null,
      "metadata": {
        "id": "J-MAKnVWly3r",
        "outputId": "24547786-a2e4-46d3-fddd-8a478e6cbe0e"
      },
      "outputs": [
        {
          "name": "stdout",
          "output_type": "stream",
          "text": [
            "<|begin_of_text|>홍정모가 자주 가는 여행지는? 홍정모는 특별히 자주 가는 여행지가 없습니다.<|end_of_text|><|end_of_text|><|end_of_text|><|end_of_text|><|end_of_text|><|end_of_text|><|end_of_text|>\n",
            " 홍정모는 특별히 자주 가는 여행지가 없습니다.<|end_of_text|><|end_of_text|><|end_of_text|><|end_of_text|><|end_of_text|><|end_of_text|><|end_of_text|><|end_of_text|>\n"
          ]
        }
      ],
      "source": [
        "x, y = next(i)\n",
        "\n",
        "y_temp = y[0].tolist()\n",
        "y_temp = [x for x in y_temp if x != -100] # -100은 제외하고 디코딩\n",
        "\n",
        "print(tokenizer.decode(x[0].tolist()))\n",
        "print(tokenizer.decode(y_temp))"
      ]
    },
    {
      "cell_type": "markdown",
      "metadata": {
        "id": "uvGcWiHwly3r"
      },
      "source": [
        "#### 훈련\n",
        "\n",
        "[안내] 데이터셋이 너무 작아서 validation은 생략하였습니다."
      ]
    },
    {
      "cell_type": "code",
      "execution_count": null,
      "metadata": {
        "id": "mr0jSjQrly3r",
        "outputId": "9bf01574-b9e8-41f9-b454-24f947c5f698"
      },
      "outputs": [
        {
          "name": "stdout",
          "output_type": "stream",
          "text": [
            "cuda\n"
          ]
        }
      ],
      "source": [
        "import torch\n",
        "\n",
        "device = torch.device(\"cuda\" if torch.cuda.is_available() else \"cpu\")\n",
        "print(device)\n",
        "#device = \"cpu\"\n",
        "torch.manual_seed(123)\n",
        "model.to(device)\n",
        "optimizer = torch.optim.AdamW(model.parameters(), lr=0.00001, weight_decay=0.01)"
      ]
    },
    {
      "cell_type": "code",
      "execution_count": null,
      "metadata": {
        "id": "aeEPczIGly3r",
        "outputId": "bb0ee9c8-2f8b-403c-df30-622cedbedbb1"
      },
      "outputs": [
        {
          "name": "stdout",
          "output_type": "stream",
          "text": [
            "0 Tokens seen: 66\n",
            "1 Tokens seen: 132\n",
            "2 Tokens seen: 198\n",
            "3 Tokens seen: 264\n",
            "4 Tokens seen: 330\n",
            "5 Tokens seen: 396\n",
            "6 Tokens seen: 462\n",
            "7 Tokens seen: 528\n",
            "Epoch: 0, Loss: 2.4990234375\n",
            "8 Tokens seen: 594\n",
            "9 Tokens seen: 660\n",
            "10 Tokens seen: 726\n",
            "11 Tokens seen: 792\n",
            "12 Tokens seen: 858\n",
            "13 Tokens seen: 924\n",
            "14 Tokens seen: 990\n",
            "15 Tokens seen: 1056\n",
            "Epoch: 1, Loss: 0.3309326171875\n",
            "16 Tokens seen: 1122\n",
            "17 Tokens seen: 1188\n",
            "18 Tokens seen: 1254\n",
            "19 Tokens seen: 1320\n",
            "20 Tokens seen: 1386\n",
            "21 Tokens seen: 1452\n",
            "22 Tokens seen: 1518\n",
            "23 Tokens seen: 1584\n",
            "Epoch: 2, Loss: 0.1495361328125\n",
            "24 Tokens seen: 1650\n",
            "25 Tokens seen: 1716\n",
            "26 Tokens seen: 1782\n",
            "27 Tokens seen: 1848\n",
            "28 Tokens seen: 1914\n",
            "29 Tokens seen: 1980\n",
            "30 Tokens seen: 2046\n",
            "31 Tokens seen: 2112\n",
            "Epoch: 3, Loss: 0.0770416259765625\n",
            "32 Tokens seen: 2178\n",
            "33 Tokens seen: 2244\n",
            "34 Tokens seen: 2310\n",
            "35 Tokens seen: 2376\n",
            "36 Tokens seen: 2442\n",
            "37 Tokens seen: 2508\n",
            "38 Tokens seen: 2574\n",
            "39 Tokens seen: 2640\n",
            "Epoch: 4, Loss: 0.043914794921875\n",
            "40 Tokens seen: 2706\n",
            "41 Tokens seen: 2772\n",
            "42 Tokens seen: 2838\n",
            "43 Tokens seen: 2904\n",
            "44 Tokens seen: 2970\n",
            "45 Tokens seen: 3036\n",
            "46 Tokens seen: 3102\n",
            "47 Tokens seen: 3168\n",
            "Epoch: 5, Loss: 0.02017974853515625\n",
            "48 Tokens seen: 3234\n",
            "49 Tokens seen: 3300\n",
            "50 Tokens seen: 3366\n",
            "51 Tokens seen: 3432\n",
            "52 Tokens seen: 3498\n",
            "53 Tokens seen: 3564\n",
            "54 Tokens seen: 3630\n",
            "55 Tokens seen: 3696\n",
            "Epoch: 6, Loss: 0.014283180236816406\n",
            "56 Tokens seen: 3762\n",
            "57 Tokens seen: 3828\n",
            "58 Tokens seen: 3894\n",
            "59 Tokens seen: 3960\n",
            "60 Tokens seen: 4026\n",
            "61 Tokens seen: 4092\n",
            "62 Tokens seen: 4158\n",
            "63 Tokens seen: 4224\n",
            "Epoch: 7, Loss: 0.0117034912109375\n",
            "64 Tokens seen: 4290\n",
            "65 Tokens seen: 4356\n",
            "66 Tokens seen: 4422\n",
            "67 Tokens seen: 4488\n",
            "68 Tokens seen: 4554\n",
            "69 Tokens seen: 4620\n",
            "70 Tokens seen: 4686\n",
            "71 Tokens seen: 4752\n",
            "Epoch: 8, Loss: 0.009403228759765625\n",
            "72 Tokens seen: 4818\n",
            "73 Tokens seen: 4884\n",
            "74 Tokens seen: 4950\n",
            "75 Tokens seen: 5016\n",
            "76 Tokens seen: 5082\n",
            "77 Tokens seen: 5148\n",
            "78 Tokens seen: 5214\n",
            "79 Tokens seen: 5280\n",
            "Epoch: 9, Loss: 0.005940914154052734\n"
          ]
        }
      ],
      "source": [
        "tokens_seen, global_step = 0, -1\n",
        "\n",
        "losses = []\n",
        "\n",
        "for epoch in range(10):\n",
        "    model.train()  # Set model to training mode\n",
        "\n",
        "    epoch_loss = 0\n",
        "    for input_batch, target_batch in train_loader:\n",
        "        optimizer.zero_grad() # Reset loss gradients from previous batch iteration\n",
        "        input_batch, target_batch = input_batch.to(device), target_batch.to(device)\n",
        "\n",
        "        logits = model(input_batch).logits # 뒤에 .logits를 붙여서 tensor만 가져옴\n",
        "\n",
        "        loss = torch.nn.functional.cross_entropy(logits.flatten(0, 1), target_batch.flatten())\n",
        "        epoch_loss += loss.item()\n",
        "        loss.backward() # Calculate loss gradients\n",
        "        optimizer.step() # Update model weights using loss gradients\n",
        "        tokens_seen += input_batch.numel()\n",
        "        global_step += 1\n",
        "\n",
        "        print(f\"{global_step} Tokens seen: {tokens_seen}\")\n",
        "\n",
        "    avg_loss = epoch_loss / len(train_loader)\n",
        "    losses.append(avg_loss)\n",
        "    print(f\"Epoch: {epoch}, Loss: {avg_loss}\")\n",
        "    torch.save(model.state_dict(), \"model_\" + str(epoch).zfill(3) + \".pth\")\n"
      ]
    },
    {
      "cell_type": "code",
      "execution_count": null,
      "metadata": {
        "id": "_cJ0oFwZly3r",
        "outputId": "e8d92e87-3b7d-4803-ecbe-a94b7bb94cc0"
      },
      "outputs": [
        {
          "data": {
            "image/png": "[encoded data removed]",
            "text/plain": [
              "<Figure size 640x480 with 1 Axes>"
            ]
          },
          "metadata": {},
          "output_type": "display_data"
        }
      ],
      "source": [
        "import matplotlib.pyplot as plt\n",
        "\n",
        "plt.plot(losses)\n",
        "plt.xlabel('Epoch')\n",
        "plt.ylabel('Loss')\n",
        "plt.title('Training Loss Over Epochs')\n",
        "plt.show()"
      ]
    },
    {
      "cell_type": "markdown",
      "metadata": {
        "id": "8OKMUoiSly3r"
      },
      "source": [
        "#### 결과확인"
      ]
    },
    {
      "cell_type": "code",
      "execution_count": null,
      "metadata": {
        "id": "XyKbP_NYly3s",
        "outputId": "37ca6e24-2111-490f-e77b-2265f8d09f7e"
      },
      "outputs": [
        {
          "data": {
            "text/plain": [
              "LlamaForCausalLM(\n",
              "  (model): LlamaModel(\n",
              "    (embed_tokens): Embedding(128256, 1792)\n",
              "    (layers): ModuleList(\n",
              "      (0-31): 32 x LlamaDecoderLayer(\n",
              "        (self_attn): LlamaAttention(\n",
              "          (q_proj): Linear(in_features=1792, out_features=3072, bias=False)\n",
              "          (k_proj): Linear(in_features=1792, out_features=1024, bias=False)\n",
              "          (v_proj): Linear(in_features=1792, out_features=1024, bias=False)\n",
              "          (o_proj): Linear(in_features=3072, out_features=1792, bias=False)\n",
              "        )\n",
              "        (mlp): LlamaMLP(\n",
              "          (gate_proj): Linear(in_features=1792, out_features=8064, bias=False)\n",
              "          (up_proj): Linear(in_features=1792, out_features=8064, bias=False)\n",
              "          (down_proj): Linear(in_features=8064, out_features=1792, bias=False)\n",
              "          (act_fn): SiLU()\n",
              "        )\n",
              "        (input_layernorm): LlamaRMSNorm((1792,), eps=1e-05)\n",
              "        (post_attention_layernorm): LlamaRMSNorm((1792,), eps=1e-05)\n",
              "      )\n",
              "    )\n",
              "    (norm): LlamaRMSNorm((1792,), eps=1e-05)\n",
              "    (rotary_emb): LlamaRotaryEmbedding()\n",
              "  )\n",
              "  (lm_head): Linear(in_features=1792, out_features=128256, bias=False)\n",
              ")"
            ]
          },
          "execution_count": 10,
          "metadata": {},
          "output_type": "execute_result"
        }
      ],
      "source": [
        "# 파인튜닝 후에 어떻게 응답하는지 확인\n",
        "model.load_state_dict(torch.load(\"model_009.pth\", map_location=device, weights_only=True))\n",
        "model.eval()"
      ]
    },
    {
      "cell_type": "code",
      "execution_count": null,
      "metadata": {
        "id": "hdpKFm4Dly3s",
        "outputId": "bfa13375-6983-4e36-b3af-39c96f26dd87"
      },
      "outputs": [
        {
          "name": "stdout",
          "output_type": "stream",
          "text": [
            "Q0: 다음 숫자들을 얘기해봐 12345 67890.\n",
            "Q1: 홍정모가 좋아하는 과일은? 홍정모는 오렌지와 바나나를 좋아합니다.\n",
            "Q2: 홍정모가 좋아하는 게임은? 홍정모는 헬다이버즈2를 좋아해서 자주합니다.\n",
            "Q3: 홍정모가 자주 가는 여행지는? 홍정모는 특별히 자주 가는 여행지가 없습니다.\n",
            "Q4: 홍정모의 취미는 무엇인가요? 홍정모는 독서와 영화 감상을 즐깁니다.\n",
            "Q5: 홍정모가 좋아하는 계절은 무엇인가요? 홍정모는 여름을 가장 좋아합니다.\n",
            "Q6: 홍정모의 특기는 무엇인가요? 아쉽게도 홍정모는 특별히 잘하는 것이 없습니다.\n",
            "Q7: 홍정모가 자주 듣는 음악 장르는? 홍정모는 EDM을 자주 듣습니다.\n",
            "Q8: 홍정모가 가장 좋아하는 색깔은? 홍정모는 여름을 가장 좋아합니다.\n",
            "Q9: 홍정모가 선호하는 영화 장르는? 홍정모는 SF와 액션 영화를 선호합니다.\n",
            "Q10: 홍정모가 좋아하는 운동은? 홍정모는 매일 조깅을 합니다.\n",
            "Q11: 홍정모는 어떤 동물을 좋아하나요? 안타깝게도 홍정모는 애완동물을 키워본 적이 없습니다.\n",
            "Q12: 홍정모가 주로 사용하는 소셜 미디어는? 홍정모는 유튜버입니다.\n",
            "Q13: 홍정모가 좋아하는 음식은? 홍정모는 갈비찜을 아주 좋아합니다.\n",
            "Q14: 홍정모가 가장 최근에 본 드라마는 무엇인가요? 홍정모는 최근에 데이데블 본어게인을 봤습니다.\n",
            "Q15: 홍정모가 싫어하는 게임은 뭔가요? 홍정모는 사행성 게임을 싫어합니다.\n",
            "Q16: 홍정모가 매일하는 게임은? 홍정모는 매일 헬다이버즈2를 합니다.\n",
            "Q17: 홍정모에 대해서 얘기해봐. 홍정모는 한국의 유명한 가수입니다.\n",
            "Q18: 카나나 모델에 대해서 설명해봐.\n",
            "Q19: 이처럼 인간처럼 생각하고 행동하는 AI 모델은 2023년 현재까지는 아직 개발되지 않았습니다.\n",
            "Q20: 인공지능의 장점은 무엇인가요? 인공지능은 다양한 장점을 가지고 있습니다. 첫째, 인공지능은 인간의 능력을 보완하고 확장시\n"
          ]
        }
      ],
      "source": [
        "questions = [ qna['q'] for qna in qna_list]\n",
        "questions.append(\"홍정모가 매일하는 게임은?\")\n",
        "questions.append(\"홍정모에 대해서 얘기해봐.\")\n",
        "questions.append(\"카나나 모델에 대해서 설명해봐.\")\n",
        "questions.append(\"이처럼 인간처럼 생각하고 행동하는 AI 모델은 \")\n",
        "questions.append(\"인공지능의 장점은\")\n",
        "\n",
        "for i, q in enumerate(questions):\n",
        "\n",
        "    input_ids = tokenizer(\n",
        "        q,\n",
        "        padding=True,\n",
        "        return_tensors=\"pt\",\n",
        "    )[\"input_ids\"].to(\"cuda\")\n",
        "\n",
        "    # print(type(model))\n",
        "\n",
        "    model.eval()\n",
        "    with torch.no_grad():\n",
        "        output = model.generate(\n",
        "            input_ids,\n",
        "            max_new_tokens=32,\n",
        "            attention_mask = (input_ids != 0).long(),\n",
        "            pad_token_id=tokenizer.eos_token_id,\n",
        "            do_sample=False,\n",
        "            # temperature=1.2,\n",
        "            # top_k=5\n",
        "        )\n",
        "\n",
        "    output_list = output.tolist()\n",
        "\n",
        "    print(f\"Q{i}: {tokenizer.decode(output[0], skip_special_tokens=True)}\")\n",
        "\n"
      ]
    },
    {
      "cell_type": "code",
      "execution_count": null,
      "metadata": {
        "id": "tBdc_pNaly3s",
        "outputId": "fd326b3e-4382-4a46-af6c-2ae23963c234"
      },
      "outputs": [
        {
          "name": "stdout",
          "output_type": "stream",
          "text": [
            "Q20: 홍정모는 누구지? 홍정모는 대한민국의 배우입니다.\n"
          ]
        }
      ],
      "source": [
        "input_ids = tokenizer(\n",
        "    input(),\n",
        "    padding=True,\n",
        "    return_tensors=\"pt\",\n",
        ")[\"input_ids\"].to(\"cuda\")\n",
        "\n",
        "# print(type(model))\n",
        "\n",
        "model.eval()\n",
        "with torch.no_grad():\n",
        "    output = model.generate(\n",
        "        input_ids,\n",
        "        max_new_tokens=32,\n",
        "        attention_mask = (input_ids != 0).long(),\n",
        "        pad_token_id=tokenizer.eos_token_id,\n",
        "        do_sample=False,\n",
        "        # temperature=1.2,\n",
        "        # top_k=5\n",
        "    )\n",
        "\n",
        "output_list = output.tolist()\n",
        "\n",
        "print(f\"Q{i}: {tokenizer.decode(output[0], skip_special_tokens=True)}\")"
      ]
    },
    {
      "cell_type": "markdown",
      "metadata": {
        "id": "3I5_c36Wly3s"
      },
      "source": [
        "#### 기타\n",
        "\n",
        "허깅페이스 코드 참고한 부분들\n",
        "- [라마 모델](https://github.com/huggingface/transformers/blob/main/src/transformers/models/llama/modeling_llama.py)\n",
        "- [대답 생성하는 부분(generate)](https://github.com/huggingface/transformers/blob/main/src/transformers/generation/utils.py#L1906)\n",
        "- [실제로 모델을 사용하는 부분(forward)](https://github.com/huggingface/transformers/blob/main/src/transformers/generation/utils.py#L2827)\n",
        "- [훈련(train)](https://github.com/huggingface/transformers/blob/main/src/transformers/trainer.py#L2612)"
      ]
    }
  ],
  "metadata": {
    "kernelspec": {
      "display_name": "Python 3",
      "name": "python3"
    },
    "language_info": {
      "codemirror_mode": {
        "name": "ipython",
        "version": 3
      },
      "file_extension": ".py",
      "mimetype": "text/x-python",
      "name": "python",
      "nbconvert_exporter": "python",
      "pygments_lexer": "ipython3",
      "version": "3.12.0"
    },
    "colab": {
      "provenance": [],
      "gpuType": "T4"
    },
    "accelerator": "GPU",
    "widgets": {
      "application/vnd.jupyter.widget-state+json": {
        "01c97eb8221949f4bfd9a7027d8281c9": {
          "model_module": "@jupyter-widgets/controls",
          "model_name": "HBoxModel",
          "model_module_version": "1.5.0",
          "state": {
            "_dom_classes": [],
            "_model_module": "@jupyter-widgets/controls",
            "_model_module_version": "1.5.0",
            "_model_name": "HBoxModel",
            "_view_count": null,
            "_view_module": "@jupyter-widgets/controls",
            "_view_module_version": "1.5.0",
            "_view_name": "HBoxView",
            "box_style": "",
            "children": [
              "IPY_MODEL_44fd15612f994960be0afad856f6324d",
              "IPY_MODEL_2e2abe25cf834b5b84fabb37c69c459f",
              "IPY_MODEL_d80fbbd149e3497cbf85c8c809825fc9"
            ],
            "layout": "IPY_MODEL_c7b3c3a327fd4624935972dca387e257"
          }
        },
        "44fd15612f994960be0afad856f6324d": {
          "model_module": "@jupyter-widgets/controls",
          "model_name": "HTMLModel",
          "model_module_version": "1.5.0",
          "state": {
            "_dom_classes": [],
            "_model_module": "@jupyter-widgets/controls",
            "_model_module_version": "1.5.0",
            "_model_name": "HTMLModel",
            "_view_count": null,
            "_view_module": "@jupyter-widgets/controls",
            "_view_module_version": "1.5.0",
            "_view_name": "HTMLView",
            "description": "",
            "description_tooltip": null,
            "layout": "IPY_MODEL_3582402485ed4533b1711ec3ba204c12",
            "placeholder": "​",
            "style": "IPY_MODEL_f99b8166ce81422c8b0317330e9a187e",
            "value": "config.json: 100%"
          }
        },
        "2e2abe25cf834b5b84fabb37c69c459f": {
          "model_module": "@jupyter-widgets/controls",
          "model_name": "FloatProgressModel",
          "model_module_version": "1.5.0",
          "state": {
            "_dom_classes": [],
            "_model_module": "@jupyter-widgets/controls",
            "_model_module_version": "1.5.0",
            "_model_name": "FloatProgressModel",
            "_view_count": null,
            "_view_module": "@jupyter-widgets/controls",
            "_view_module_version": "1.5.0",
            "_view_name": "ProgressView",
            "bar_style": "success",
            "description": "",
            "description_tooltip": null,
            "layout": "IPY_MODEL_4b038cfd45c1405fb7014d4f84e99133",
            "max": 692,
            "min": 0,
            "orientation": "horizontal",
            "style": "IPY_MODEL_15c3b11e66e24dc083c75ebdfcc5f477",
            "value": 692
          }
        },
        "d80fbbd149e3497cbf85c8c809825fc9": {
          "model_module": "@jupyter-widgets/controls",
          "model_name": "HTMLModel",
          "model_module_version": "1.5.0",
          "state": {
            "_dom_classes": [],
            "_model_module": "@jupyter-widgets/controls",
            "_model_module_version": "1.5.0",
            "_model_name": "HTMLModel",
            "_view_count": null,
            "_view_module": "@jupyter-widgets/controls",
            "_view_module_version": "1.5.0",
            "_view_name": "HTMLView",
            "description": "",
            "description_tooltip": null,
            "layout": "IPY_MODEL_f59a8c74e4fb4421b099a6a14f686533",
            "placeholder": "​",
            "style": "IPY_MODEL_97d4f353392d46019348bd35e68c1e1a",
            "value": " 692/692 [00:00&lt;00:00, 43.3kB/s]"
          }
        },
        "c7b3c3a327fd4624935972dca387e257": {
          "model_module": "@jupyter-widgets/base",
          "model_name": "LayoutModel",
          "model_module_version": "1.2.0",
          "state": {
            "_model_module": "@jupyter-widgets/base",
            "_model_module_version": "1.2.0",
            "_model_name": "LayoutModel",
            "_view_count": null,
            "_view_module": "@jupyter-widgets/base",
            "_view_module_version": "1.2.0",
            "_view_name": "LayoutView",
            "align_content": null,
            "align_items": null,
            "align_self": null,
            "border": null,
            "bottom": null,
            "display": null,
            "flex": null,
            "flex_flow": null,
            "grid_area": null,
            "grid_auto_columns": null,
            "grid_auto_flow": null,
            "grid_auto_rows": null,
            "grid_column": null,
            "grid_gap": null,
            "grid_row": null,
            "grid_template_areas": null,
            "grid_template_columns": null,
            "grid_template_rows": null,
            "height": null,
            "justify_content": null,
            "justify_items": null,
            "left": null,
            "margin": null,
            "max_height": null,
            "max_width": null,
            "min_height": null,
            "min_width": null,
            "object_fit": null,
            "object_position": null,
            "order": null,
            "overflow": null,
            "overflow_x": null,
            "overflow_y": null,
            "padding": null,
            "right": null,
            "top": null,
            "visibility": null,
            "width": null
          }
        },
        "3582402485ed4533b1711ec3ba204c12": {
          "model_module": "@jupyter-widgets/base",
          "model_name": "LayoutModel",
          "model_module_version": "1.2.0",
          "state": {
            "_model_module": "@jupyter-widgets/base",
            "_model_module_version": "1.2.0",
            "_model_name": "LayoutModel",
            "_view_count": null,
            "_view_module": "@jupyter-widgets/base",
            "_view_module_version": "1.2.0",
            "_view_name": "LayoutView",
            "align_content": null,
            "align_items": null,
            "align_self": null,
            "border": null,
            "bottom": null,
            "display": null,
            "flex": null,
            "flex_flow": null,
            "grid_area": null,
            "grid_auto_columns": null,
            "grid_auto_flow": null,
            "grid_auto_rows": null,
            "grid_column": null,
            "grid_gap": null,
            "grid_row": null,
            "grid_template_areas": null,
            "grid_template_columns": null,
            "grid_template_rows": null,
            "height": null,
            "justify_content": null,
            "justify_items": null,
            "left": null,
            "margin": null,
            "max_height": null,
            "max_width": null,
            "min_height": null,
            "min_width": null,
            "object_fit": null,
            "object_position": null,
            "order": null,
            "overflow": null,
            "overflow_x": null,
            "overflow_y": null,
            "padding": null,
            "right": null,
            "top": null,
            "visibility": null,
            "width": null
          }
        },
        "f99b8166ce81422c8b0317330e9a187e": {
          "model_module": "@jupyter-widgets/controls",
          "model_name": "DescriptionStyleModel",
          "model_module_version": "1.5.0",
          "state": {
            "_model_module": "@jupyter-widgets/controls",
            "_model_module_version": "1.5.0",
            "_model_name": "DescriptionStyleModel",
            "_view_count": null,
            "_view_module": "@jupyter-widgets/base",
            "_view_module_version": "1.2.0",
            "_view_name": "StyleView",
            "description_width": ""
          }
        },
        "4b038cfd45c1405fb7014d4f84e99133": {
          "model_module": "@jupyter-widgets/base",
          "model_name": "LayoutModel",
          "model_module_version": "1.2.0",
          "state": {
            "_model_module": "@jupyter-widgets/base",
            "_model_module_version": "1.2.0",
            "_model_name": "LayoutModel",
            "_view_count": null,
            "_view_module": "@jupyter-widgets/base",
            "_view_module_version": "1.2.0",
            "_view_name": "LayoutView",
            "align_content": null,
            "align_items": null,
            "align_self": null,
            "border": null,
            "bottom": null,
            "display": null,
            "flex": null,
            "flex_flow": null,
            "grid_area": null,
            "grid_auto_columns": null,
            "grid_auto_flow": null,
            "grid_auto_rows": null,
            "grid_column": null,
            "grid_gap": null,
            "grid_row": null,
            "grid_template_areas": null,
            "grid_template_columns": null,
            "grid_template_rows": null,
            "height": null,
            "justify_content": null,
            "justify_items": null,
            "left": null,
            "margin": null,
            "max_height": null,
            "max_width": null,
            "min_height": null,
            "min_width": null,
            "object_fit": null,
            "object_position": null,
            "order": null,
            "overflow": null,
            "overflow_x": null,
            "overflow_y": null,
            "padding": null,
            "right": null,
            "top": null,
            "visibility": null,
            "width": null
          }
        },
        "15c3b11e66e24dc083c75ebdfcc5f477": {
          "model_module": "@jupyter-widgets/controls",
          "model_name": "ProgressStyleModel",
          "model_module_version": "1.5.0",
          "state": {
            "_model_module": "@jupyter-widgets/controls",
            "_model_module_version": "1.5.0",
            "_model_name": "ProgressStyleModel",
            "_view_count": null,
            "_view_module": "@jupyter-widgets/base",
            "_view_module_version": "1.2.0",
            "_view_name": "StyleView",
            "bar_color": null,
            "description_width": ""
          }
        },
        "f59a8c74e4fb4421b099a6a14f686533": {
          "model_module": "@jupyter-widgets/base",
          "model_name": "LayoutModel",
          "model_module_version": "1.2.0",
          "state": {
            "_model_module": "@jupyter-widgets/base",
            "_model_module_version": "1.2.0",
            "_model_name": "LayoutModel",
            "_view_count": null,
            "_view_module": "@jupyter-widgets/base",
            "_view_module_version": "1.2.0",
            "_view_name": "LayoutView",
            "align_content": null,
            "align_items": null,
            "align_self": null,
            "border": null,
            "bottom": null,
            "display": null,
            "flex": null,
            "flex_flow": null,
            "grid_area": null,
            "grid_auto_columns": null,
            "grid_auto_flow": null,
            "grid_auto_rows": null,
            "grid_column": null,
            "grid_gap": null,
            "grid_row": null,
            "grid_template_areas": null,
            "grid_template_columns": null,
            "grid_template_rows": null,
            "height": null,
            "justify_content": null,
            "justify_items": null,
            "left": null,
            "margin": null,
            "max_height": null,
            "max_width": null,
            "min_height": null,
            "min_width": null,
            "object_fit": null,
            "object_position": null,
            "order": null,
            "overflow": null,
            "overflow_x": null,
            "overflow_y": null,
            "padding": null,
            "right": null,
            "top": null,
            "visibility": null,
            "width": null
          }
        },
        "97d4f353392d46019348bd35e68c1e1a": {
          "model_module": "@jupyter-widgets/controls",
          "model_name": "DescriptionStyleModel",
          "model_module_version": "1.5.0",
          "state": {
            "_model_module": "@jupyter-widgets/controls",
            "_model_module_version": "1.5.0",
            "_model_name": "DescriptionStyleModel",
            "_view_count": null,
            "_view_module": "@jupyter-widgets/base",
            "_view_module_version": "1.2.0",
            "_view_name": "StyleView",
            "description_width": ""
          }
        },
        "b44d1f2ed2dd451bbbcdd204aec71809": {
          "model_module": "@jupyter-widgets/controls",
          "model_name": "HBoxModel",
          "model_module_version": "1.5.0",
          "state": {
            "_dom_classes": [],
            "_model_module": "@jupyter-widgets/controls",
            "_model_module_version": "1.5.0",
            "_model_name": "HBoxModel",
            "_view_count": null,
            "_view_module": "@jupyter-widgets/controls",
            "_view_module_version": "1.5.0",
            "_view_name": "HBoxView",
            "box_style": "",
            "children": [
              "IPY_MODEL_23984bf6c218471a9c6fbcdbbd3c9630",
              "IPY_MODEL_55d69ef165fc4b89be1d23913ab0f21c",
              "IPY_MODEL_6f613be7264f46debb5cbd375c83dfa5"
            ],
            "layout": "IPY_MODEL_3e744ac193a641aca2017b24381cf589"
          }
        },
        "23984bf6c218471a9c6fbcdbbd3c9630": {
          "model_module": "@jupyter-widgets/controls",
          "model_name": "HTMLModel",
          "model_module_version": "1.5.0",
          "state": {
            "_dom_classes": [],
            "_model_module": "@jupyter-widgets/controls",
            "_model_module_version": "1.5.0",
            "_model_name": "HTMLModel",
            "_view_count": null,
            "_view_module": "@jupyter-widgets/controls",
            "_view_module_version": "1.5.0",
            "_view_name": "HTMLView",
            "description": "",
            "description_tooltip": null,
            "layout": "IPY_MODEL_db9a8aa2a879451a83b2f88105f3ecf6",
            "placeholder": "​",
            "style": "IPY_MODEL_0d42c0214d3a4ff186ab34023dd562aa",
            "value": "model.safetensors:   4%"
          }
        },
        "55d69ef165fc4b89be1d23913ab0f21c": {
          "model_module": "@jupyter-widgets/controls",
          "model_name": "FloatProgressModel",
          "model_module_version": "1.5.0",
          "state": {
            "_dom_classes": [],
            "_model_module": "@jupyter-widgets/controls",
            "_model_module_version": "1.5.0",
            "_model_name": "FloatProgressModel",
            "_view_count": null,
            "_view_module": "@jupyter-widgets/controls",
            "_view_module_version": "1.5.0",
            "_view_name": "ProgressView",
            "bar_style": "",
            "description": "",
            "description_tooltip": null,
            "layout": "IPY_MODEL_ed27f36939904e33a507b1dc506c1eff",
            "max": 4173992256,
            "min": 0,
            "orientation": "horizontal",
            "style": "IPY_MODEL_42e23d6207194a4e986591fab3ca9568",
            "value": 157286400
          }
        },
        "6f613be7264f46debb5cbd375c83dfa5": {
          "model_module": "@jupyter-widgets/controls",
          "model_name": "HTMLModel",
          "model_module_version": "1.5.0",
          "state": {
            "_dom_classes": [],
            "_model_module": "@jupyter-widgets/controls",
            "_model_module_version": "1.5.0",
            "_model_name": "HTMLModel",
            "_view_count": null,
            "_view_module": "@jupyter-widgets/controls",
            "_view_module_version": "1.5.0",
            "_view_name": "HTMLView",
            "description": "",
            "description_tooltip": null,
            "layout": "IPY_MODEL_652a9d800b534f40ae7632996dc8ec2a",
            "placeholder": "​",
            "style": "IPY_MODEL_5a655f66704e401fb47ab7e66f148b36",
            "value": " 157M/4.17G [05:37&lt;2:01:37, 550kB/s]"
          }
        },
        "3e744ac193a641aca2017b24381cf589": {
          "model_module": "@jupyter-widgets/base",
          "model_name": "LayoutModel",
          "model_module_version": "1.2.0",
          "state": {
            "_model_module": "@jupyter-widgets/base",
            "_model_module_version": "1.2.0",
            "_model_name": "LayoutModel",
            "_view_count": null,
            "_view_module": "@jupyter-widgets/base",
            "_view_module_version": "1.2.0",
            "_view_name": "LayoutView",
            "align_content": null,
            "align_items": null,
            "align_self": null,
            "border": null,
            "bottom": null,
            "display": null,
            "flex": null,
            "flex_flow": null,
            "grid_area": null,
            "grid_auto_columns": null,
            "grid_auto_flow": null,
            "grid_auto_rows": null,
            "grid_column": null,
            "grid_gap": null,
            "grid_row": null,
            "grid_template_areas": null,
            "grid_template_columns": null,
            "grid_template_rows": null,
            "height": null,
            "justify_content": null,
            "justify_items": null,
            "left": null,
            "margin": null,
            "max_height": null,
            "max_width": null,
            "min_height": null,
            "min_width": null,
            "object_fit": null,
            "object_position": null,
            "order": null,
            "overflow": null,
            "overflow_x": null,
            "overflow_y": null,
            "padding": null,
            "right": null,
            "top": null,
            "visibility": null,
            "width": null
          }
        },
        "db9a8aa2a879451a83b2f88105f3ecf6": {
          "model_module": "@jupyter-widgets/base",
          "model_name": "LayoutModel",
          "model_module_version": "1.2.0",
          "state": {
            "_model_module": "@jupyter-widgets/base",
            "_model_module_version": "1.2.0",
            "_model_name": "LayoutModel",
            "_view_count": null,
            "_view_module": "@jupyter-widgets/base",
            "_view_module_version": "1.2.0",
            "_view_name": "LayoutView",
            "align_content": null,
            "align_items": null,
            "align_self": null,
            "border": null,
            "bottom": null,
            "display": null,
            "flex": null,
            "flex_flow": null,
            "grid_area": null,
            "grid_auto_columns": null,
            "grid_auto_flow": null,
            "grid_auto_rows": null,
            "grid_column": null,
            "grid_gap": null,
            "grid_row": null,
            "grid_template_areas": null,
            "grid_template_columns": null,
            "grid_template_rows": null,
            "height": null,
            "justify_content": null,
            "justify_items": null,
            "left": null,
            "margin": null,
            "max_height": null,
            "max_width": null,
            "min_height": null,
            "min_width": null,
            "object_fit": null,
            "object_position": null,
            "order": null,
            "overflow": null,
            "overflow_x": null,
            "overflow_y": null,
            "padding": null,
            "right": null,
            "top": null,
            "visibility": null,
            "width": null
          }
        },
        "0d42c0214d3a4ff186ab34023dd562aa": {
          "model_module": "@jupyter-widgets/controls",
          "model_name": "DescriptionStyleModel",
          "model_module_version": "1.5.0",
          "state": {
            "_model_module": "@jupyter-widgets/controls",
            "_model_module_version": "1.5.0",
            "_model_name": "DescriptionStyleModel",
            "_view_count": null,
            "_view_module": "@jupyter-widgets/base",
            "_view_module_version": "1.2.0",
            "_view_name": "StyleView",
            "description_width": ""
          }
        },
        "ed27f36939904e33a507b1dc506c1eff": {
          "model_module": "@jupyter-widgets/base",
          "model_name": "LayoutModel",
          "model_module_version": "1.2.0",
          "state": {
            "_model_module": "@jupyter-widgets/base",
            "_model_module_version": "1.2.0",
            "_model_name": "LayoutModel",
            "_view_count": null,
            "_view_module": "@jupyter-widgets/base",
            "_view_module_version": "1.2.0",
            "_view_name": "LayoutView",
            "align_content": null,
            "align_items": null,
            "align_self": null,
            "border": null,
            "bottom": null,
            "display": null,
            "flex": null,
            "flex_flow": null,
            "grid_area": null,
            "grid_auto_columns": null,
            "grid_auto_flow": null,
            "grid_auto_rows": null,
            "grid_column": null,
            "grid_gap": null,
            "grid_row": null,
            "grid_template_areas": null,
            "grid_template_columns": null,
            "grid_template_rows": null,
            "height": null,
            "justify_content": null,
            "justify_items": null,
            "left": null,
            "margin": null,
            "max_height": null,
            "max_width": null,
            "min_height": null,
            "min_width": null,
            "object_fit": null,
            "object_position": null,
            "order": null,
            "overflow": null,
            "overflow_x": null,
            "overflow_y": null,
            "padding": null,
            "right": null,
            "top": null,
            "visibility": null,
            "width": null
          }
        },
        "42e23d6207194a4e986591fab3ca9568": {
          "model_module": "@jupyter-widgets/controls",
          "model_name": "ProgressStyleModel",
          "model_module_version": "1.5.0",
          "state": {
            "_model_module": "@jupyter-widgets/controls",
            "_model_module_version": "1.5.0",
            "_model_name": "ProgressStyleModel",
            "_view_count": null,
            "_view_module": "@jupyter-widgets/base",
            "_view_module_version": "1.2.0",
            "_view_name": "StyleView",
            "bar_color": null,
            "description_width": ""
          }
        },
        "652a9d800b534f40ae7632996dc8ec2a": {
          "model_module": "@jupyter-widgets/base",
          "model_name": "LayoutModel",
          "model_module_version": "1.2.0",
          "state": {
            "_model_module": "@jupyter-widgets/base",
            "_model_module_version": "1.2.0",
            "_model_name": "LayoutModel",
            "_view_count": null,
            "_view_module": "@jupyter-widgets/base",
            "_view_module_version": "1.2.0",
            "_view_name": "LayoutView",
            "align_content": null,
            "align_items": null,
            "align_self": null,
            "border": null,
            "bottom": null,
            "display": null,
            "flex": null,
            "flex_flow": null,
            "grid_area": null,
            "grid_auto_columns": null,
            "grid_auto_flow": null,
            "grid_auto_rows": null,
            "grid_column": null,
            "grid_gap": null,
            "grid_row": null,
            "grid_template_areas": null,
            "grid_template_columns": null,
            "grid_template_rows": null,
            "height": null,
            "justify_content": null,
            "justify_items": null,
            "left": null,
            "margin": null,
            "max_height": null,
            "max_width": null,
            "min_height": null,
            "min_width": null,
            "object_fit": null,
            "object_position": null,
            "order": null,
            "overflow": null,
            "overflow_x": null,
            "overflow_y": null,
            "padding": null,
            "right": null,
            "top": null,
            "visibility": null,
            "width": null
          }
        },
        "5a655f66704e401fb47ab7e66f148b36": {
          "model_module": "@jupyter-widgets/controls",
          "model_name": "DescriptionStyleModel",
          "model_module_version": "1.5.0",
          "state": {
            "_model_module": "@jupyter-widgets/controls",
            "_model_module_version": "1.5.0",
            "_model_name": "DescriptionStyleModel",
            "_view_count": null,
            "_view_module": "@jupyter-widgets/base",
            "_view_module_version": "1.2.0",
            "_view_name": "StyleView",
            "description_width": ""
          }
        }
      }
    }
  },
  "nbformat": 4,
  "nbformat_minor": 0
}